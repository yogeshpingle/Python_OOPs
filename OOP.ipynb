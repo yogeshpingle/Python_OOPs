{
  "nbformat": 4,
  "nbformat_minor": 0,
  "metadata": {
    "colab": {
      "name": "OOP.ipynb",
      "provenance": [],
      "collapsed_sections": []
    },
    "kernelspec": {
      "name": "python3",
      "display_name": "Python 3"
    },
    "language_info": {
      "name": "python"
    }
  },
  "cells": [
    {
      "cell_type": "code",
      "execution_count": null,
      "metadata": {
        "colab": {
          "base_uri": "https://localhost:8080/"
        },
        "id": "HOXsDDTlTSOO",
        "outputId": "7d458902-ff9e-48af-af7e-813be94a310b"
      },
      "outputs": [
        {
          "output_type": "stream",
          "name": "stdout",
          "text": [
            "Hello\n"
          ]
        }
      ],
      "source": [
        "print(\"Hello\");"
      ]
    },
    {
      "cell_type": "code",
      "source": [
        "class Animal:\n",
        "    pass"
      ],
      "metadata": {
        "id": "WP2Ztb-UTqWH"
      },
      "execution_count": null,
      "outputs": []
    },
    {
      "cell_type": "code",
      "source": [
        "obj = Animal()"
      ],
      "metadata": {
        "id": "tGtpTDm5VKZm"
      },
      "execution_count": null,
      "outputs": []
    },
    {
      "cell_type": "code",
      "source": [
        "### Example 1: Creating Class and Object in Python"
      ],
      "metadata": {
        "id": "1C7fxkFpWjc6"
      },
      "execution_count": null,
      "outputs": []
    },
    {
      "cell_type": "code",
      "source": [
        "class Animal:\n",
        "\n",
        "    # class attribute\n",
        "    species = \"wild animal\"\n",
        "\n",
        "    # instance attribute\n",
        "    def __init__(self, name, age):\n",
        "        self.name = name\n",
        "        self.age = age\n",
        "\n",
        "# instantiate the Animal class\n",
        "tiger = Animal(\"tiger\", 10)\n",
        "lion = Animal(\"lion\", 12)\n",
        "\n",
        "# access the class attributes\n",
        "print(\"tiger is a {}\".format(tiger.__class__.species))\n",
        "print(\"lion is also a {}\".format(lion.__class__.species))\n",
        "\n",
        "# access the instance attributes\n",
        "print(\"{} is {} years old\".format( tiger.name, tiger.age))\n",
        "print(\"{} is {} years old\".format( lion.name, lion.age))"
      ],
      "metadata": {
        "colab": {
          "base_uri": "https://localhost:8080/"
        },
        "id": "M7nmkg6GVQk8",
        "outputId": "4c270894-6b04-4163-9154-75123c9cd044"
      },
      "execution_count": null,
      "outputs": [
        {
          "output_type": "stream",
          "name": "stdout",
          "text": [
            "tiger is a wild animal\n",
            "lion is also a wild animal\n",
            "tiger is 10 years old\n",
            "lion is 12 years old\n"
          ]
        }
      ]
    },
    {
      "cell_type": "code",
      "source": [
        "#Example 2 : Creating Methods in Python"
      ],
      "metadata": {
        "id": "PLFaLJPOXC9t"
      },
      "execution_count": null,
      "outputs": []
    },
    {
      "cell_type": "code",
      "source": [
        "class Animal:\n",
        "    \n",
        "    # instance attributes\n",
        "    def __init__(self, name, age):\n",
        "        self.name = name\n",
        "        self.age = age\n",
        "    \n",
        "    # instance method\n",
        "    def sing(self, song):\n",
        "        return \"{} sings {}\".format(self.name, song)\n",
        "\n",
        "    def dance(self):\n",
        "        return \"{} is now dancing\".format(self.name)\n",
        "\n",
        "# instantiate the object\n",
        "tiger = Animal(\"Tiger\", 10)\n",
        "\n",
        "# call our instance methods\n",
        "print(tiger.sing(\"'Happy'\"))\n",
        "print(tiger.dance())"
      ],
      "metadata": {
        "colab": {
          "base_uri": "https://localhost:8080/"
        },
        "id": "glNQgwtzYkAb",
        "outputId": "1d5641b0-2872-4a85-ee92-a0276b4aa69a"
      },
      "execution_count": null,
      "outputs": [
        {
          "output_type": "stream",
          "name": "stdout",
          "text": [
            "Tiger sings 'Happy'\n",
            "Tiger is now dancing\n"
          ]
        }
      ]
    },
    {
      "cell_type": "code",
      "source": [
        "# Example 3: Use of Inheritance in Python"
      ],
      "metadata": {
        "id": "hUL5K6ymZGJT"
      },
      "execution_count": null,
      "outputs": []
    },
    {
      "cell_type": "code",
      "source": [
        "# parent class\n",
        "class Bird:\n",
        "    \n",
        "    def __init__(self):\n",
        "        print(\"Bird is ready\")\n",
        "\n",
        "    def whoisThis(self):\n",
        "        print(\"Bird\")\n",
        "\n",
        "    def swim(self):\n",
        "        print(\"Swim faster\")\n",
        "\n",
        "# child class\n",
        "class Penguin(Bird):\n",
        "\n",
        "    def __init__(self):\n",
        "        # call super() function\n",
        "        super().__init__()\n",
        "        print(\"Penguin is ready\")\n",
        "\n",
        "    def whoisThis(self):\n",
        "        print(\"Penguin\")\n",
        "\n",
        "    def run(self):\n",
        "        print(\"Run faster\")\n",
        "\n",
        "peggy = Penguin()\n",
        "peggy.whoisThis()\n",
        "peggy.swim()\n",
        "peggy.run()\n"
      ],
      "metadata": {
        "colab": {
          "base_uri": "https://localhost:8080/"
        },
        "id": "uHmsyYH5YtTF",
        "outputId": "95bc5094-13cf-4e6c-9b2e-92e34ade6c68"
      },
      "execution_count": null,
      "outputs": [
        {
          "output_type": "stream",
          "name": "stdout",
          "text": [
            "Bird is ready\n",
            "Penguin is ready\n",
            "Penguin\n",
            "Swim faster\n",
            "Run faster\n"
          ]
        }
      ]
    },
    {
      "cell_type": "code",
      "source": [
        "# Example 4: Data Encapsulation in Python"
      ],
      "metadata": {
        "id": "alEQrwrMZxrv"
      },
      "execution_count": null,
      "outputs": []
    },
    {
      "cell_type": "code",
      "source": [
        "class RaspberryPi:\n",
        "\n",
        "    def __init__(self):\n",
        "        self.__maxprice = 8000\n",
        "\n",
        "    def sell(self):\n",
        "        print(\"Selling Price: {}\".format(self.__maxprice))\n",
        "\n",
        "    def setMaxPrice(self, price):\n",
        "        self.__maxprice = price\n",
        "\n",
        "c = RaspberryPi()\n",
        "c.sell()\n",
        "\n",
        "# change the price\n",
        "c.__maxprice = 9000\n",
        "c.sell()\n",
        "c.sell()\n",
        "\n",
        "# using setter function\n",
        "c.setMaxPrice(8500)\n",
        "c.sell()"
      ],
      "metadata": {
        "colab": {
          "base_uri": "https://localhost:8080/"
        },
        "id": "UbMzHA0WZ7zP",
        "outputId": "f695a206-43ed-41df-c814-ef4a6d10a06a"
      },
      "execution_count": null,
      "outputs": [
        {
          "output_type": "stream",
          "name": "stdout",
          "text": [
            "Selling Price: 8000\n",
            "Selling Price: 8000\n",
            "Selling Price: 8000\n",
            "Selling Price: 8500\n"
          ]
        }
      ]
    },
    {
      "cell_type": "code",
      "source": [
        "# Example 5: Using Polymorphism in Python"
      ],
      "metadata": {
        "id": "KvjIzihaaIRA"
      },
      "execution_count": null,
      "outputs": []
    },
    {
      "cell_type": "code",
      "source": [
        "class Bird:\n",
        "\n",
        "    def fly(self):\n",
        "        print(\"Bird can fly\")\n",
        "    \n",
        "    def swim(self):\n",
        "        print(\"Bird can't swim\")\n",
        "\n",
        "class Shark:\n",
        "\n",
        "    def fly(self):\n",
        "        print(\"Shark can't fly\")\n",
        "    \n",
        "    def swim(self):\n",
        "        print(\"Shark can swim\")\n",
        "\n",
        "# common interface\n",
        "def flying_test(bird):\n",
        "    bird.fly()\n",
        "\n",
        "#instantiate objects\n",
        "bird = Bird()\n",
        "shark = Shark()\n",
        "\n",
        "# passing the object\n",
        "flying_test(bird)\n",
        "flying_test(shark)"
      ],
      "metadata": {
        "colab": {
          "base_uri": "https://localhost:8080/"
        },
        "id": "NIcWCatKWfek",
        "outputId": "a0b151cb-b61b-4eaa-d7c4-0c2a42ae207b"
      },
      "execution_count": null,
      "outputs": [
        {
          "output_type": "stream",
          "name": "stdout",
          "text": [
            "Bird can fly\n",
            "Shark can't fly\n"
          ]
        }
      ]
    },
    {
      "cell_type": "code",
      "source": [
        "\"\"\"\n",
        "Constructors in Python\n",
        "Class functions that begin with double underscore __ are called special functions as they have special meaning.\n",
        "\n",
        "Of one particular interest is the __init__() function. This special function gets called whenever a new object of that class is instantiated.\n",
        "\n",
        "This type of function is also called constructors in Object Oriented Programming (OOP). We normally use it to initialize all the variables.\n",
        "\"\"\""
      ],
      "metadata": {
        "colab": {
          "base_uri": "https://localhost:8080/",
          "height": 70
        },
        "id": "ON5lYC9KcsIf",
        "outputId": "4f27fccb-6e27-48df-d1ce-2fac7595d879"
      },
      "execution_count": null,
      "outputs": [
        {
          "output_type": "execute_result",
          "data": {
            "text/plain": [
              "'\\nConstructors in Python\\nClass functions that begin with double underscore __ are called special functions as they have special meaning.\\n\\nOf one particular interest is the __init__() function. This special function gets called whenever a new object of that class is instantiated.\\n\\nThis type of function is also called constructors in Object Oriented Programming (OOP). We normally use it to initialize all the variables.\\n'"
            ],
            "application/vnd.google.colaboratory.intrinsic+json": {
              "type": "string"
            }
          },
          "metadata": {},
          "execution_count": 18
        }
      ]
    },
    {
      "cell_type": "code",
      "source": [
        "# Simple Constructor Example\n",
        "\n",
        "class Sample:\n",
        "\n",
        "    def __init__(self, num):\n",
        "        print(\"Constructor of class Sample...\")\n",
        "        self.num = num\n",
        "        print(\"The value is :\", num)\n",
        "\n",
        "\n",
        "S = Sample(100)"
      ],
      "metadata": {
        "colab": {
          "base_uri": "https://localhost:8080/"
        },
        "id": "FdkrkRrzeAAQ",
        "outputId": "d25f8e82-043a-4c61-f135-e5f2301cd445"
      },
      "execution_count": null,
      "outputs": [
        {
          "output_type": "stream",
          "name": "stdout",
          "text": [
            "Constructor of class Sample...\n",
            "The value is : 100\n"
          ]
        }
      ]
    },
    {
      "cell_type": "code",
      "source": [
        "# Destructor Example\n",
        "# Constructor and destructor function automatically executed in Python.\n",
        "# Constructor when an object of a class is created and Destructor when an object exit from the scope.\n",
        "\n",
        "class Sample:\n",
        "    num = 0\n",
        "\n",
        "    def __init__(self, var):\n",
        "        Sample.num += 1\n",
        "        self.var = var\n",
        "\n",
        "        print(\"Object value is = \", var)\n",
        "        print(\"Variable value = \", Sample.num)\n",
        "\n",
        "    def __del__(self):\n",
        "        Sample.num -= 1\n",
        "\n",
        "        print(\"Object with value %d is exit from the scope\" % self.var)\n",
        "\n",
        "\n",
        "S1 = Sample(10)"
      ],
      "metadata": {
        "colab": {
          "base_uri": "https://localhost:8080/"
        },
        "id": "O0LJwCkjep_i",
        "outputId": "1e843c7d-50eb-4873-83f4-12b6436790b0"
      },
      "execution_count": null,
      "outputs": [
        {
          "output_type": "stream",
          "name": "stdout",
          "text": [
            "Object value is =  10\n",
            "Variable value =  1\n",
            "Object with value 10 is exit from the scope\n"
          ]
        }
      ]
    },
    {
      "cell_type": "code",
      "source": [
        "\"\"\"\n",
        "A class defined in another class is known as inner class or nested class.\n",
        "If an object is created using child class means inner class then the object can also be used by parent class or root class.\n",
        "A parent class can have one or more inner class but generally inner classes are avoided.\n",
        "\"\"\"\n",
        "\n",
        "# create a Color class\n",
        "class Color:\n",
        "    \n",
        "  # constructor method\n",
        "  def __init__(self):\n",
        "    # object attributes\n",
        "    self.name = 'Green'\n",
        "    self.lg = self.Lightgreen()\n",
        "    \n",
        "  def show(self):\n",
        "    print(\"Name:\", self.name)\n",
        "    \n",
        "  # create Lightgreen class\n",
        "  class Lightgreen:\n",
        "     def __init__(self):\n",
        "        self.name = 'Light Green'\n",
        "        self.code = '024avc'\n",
        "    \n",
        "     def display(self):\n",
        "        print(\"Name:\", self.name)\n",
        "        print(\"Code:\", self.code)\n",
        "  \n",
        "# create Color class object\n",
        "outer = Color()\n",
        "  \n",
        "# method calling\n",
        "outer.show()\n",
        "  \n",
        "# create a Lightgreen \n",
        "# inner class object\n",
        "g = outer.lg\n",
        "  \n",
        "# inner class method calling\n",
        "g.display()"
      ],
      "metadata": {
        "colab": {
          "base_uri": "https://localhost:8080/"
        },
        "id": "LLtXmPK3f-k2",
        "outputId": "be08d490-2677-48b6-f3ec-c904e3a0aee6"
      },
      "execution_count": null,
      "outputs": [
        {
          "output_type": "stream",
          "name": "stdout",
          "text": [
            "Name: Green\n",
            "Name: Light Green\n",
            "Code: 024avc\n"
          ]
        }
      ]
    },
    {
      "cell_type": "code",
      "source": [
        "# Python program to demonstrate\n",
        "# use of class method and static method.\n",
        "from datetime import date\n",
        "  \n",
        "class Person:\n",
        "    def __init__(self, name, age):\n",
        "        self.name = name\n",
        "        self.age = age\n",
        "      \n",
        "    # a class method to create a Person object by birth year.\n",
        "    @classmethod\n",
        "    def fromBirthYear(cls, name, year):\n",
        "        return cls(name, date.today().year - year)\n",
        "      \n",
        "    # a static method to check if a Person is adult or not.\n",
        "    @staticmethod\n",
        "    def isAdult(age):\n",
        "        return age > 18\n",
        "  \n",
        "person1 = Person('mayank', 21)\n",
        "person2 = Person.fromBirthYear('mayank', 1996)\n",
        "  \n",
        "print (person1.age)\n",
        "print (person2.age)\n",
        "  \n",
        "# print the result\n",
        "print (Person.isAdult(22))\n",
        "\n"
      ],
      "metadata": {
        "colab": {
          "base_uri": "https://localhost:8080/"
        },
        "id": "HtpY_EOY3OAp",
        "outputId": "4d02162b-ef60-42cd-cecb-29fb9de13eb4"
      },
      "execution_count": null,
      "outputs": [
        {
          "output_type": "stream",
          "name": "stdout",
          "text": [
            "21\n",
            "26\n",
            "True\n"
          ]
        }
      ]
    },
    {
      "cell_type": "code",
      "source": [
        "\"\"\"\n",
        "A namespace is a collection of currently defined symbolic names along with information about the object that each name references.\n",
        "You can think of a namespace as a dictionary in which the keys are the object names and the values are the objects themselves. \n",
        "In a Python program, there are four types of namespaces:\n",
        "\n",
        "Built-In\n",
        "Global\n",
        "Enclosing\n",
        "Local\n",
        "\"\"\"\n",
        "dir(__builtins__)"
      ],
      "metadata": {
        "colab": {
          "base_uri": "https://localhost:8080/"
        },
        "id": "M7uvALZw39Q_",
        "outputId": "9e22f4b8-198d-4f5e-c634-4be8f63d995f"
      },
      "execution_count": null,
      "outputs": [
        {
          "output_type": "execute_result",
          "data": {
            "text/plain": [
              "['ArithmeticError',\n",
              " 'AssertionError',\n",
              " 'AttributeError',\n",
              " 'BaseException',\n",
              " 'BlockingIOError',\n",
              " 'BrokenPipeError',\n",
              " 'BufferError',\n",
              " 'BytesWarning',\n",
              " 'ChildProcessError',\n",
              " 'ConnectionAbortedError',\n",
              " 'ConnectionError',\n",
              " 'ConnectionRefusedError',\n",
              " 'ConnectionResetError',\n",
              " 'DeprecationWarning',\n",
              " 'EOFError',\n",
              " 'Ellipsis',\n",
              " 'EnvironmentError',\n",
              " 'Exception',\n",
              " 'False',\n",
              " 'FileExistsError',\n",
              " 'FileNotFoundError',\n",
              " 'FloatingPointError',\n",
              " 'FutureWarning',\n",
              " 'GeneratorExit',\n",
              " 'IOError',\n",
              " 'ImportError',\n",
              " 'ImportWarning',\n",
              " 'IndentationError',\n",
              " 'IndexError',\n",
              " 'InterruptedError',\n",
              " 'IsADirectoryError',\n",
              " 'KeyError',\n",
              " 'KeyboardInterrupt',\n",
              " 'LookupError',\n",
              " 'MemoryError',\n",
              " 'ModuleNotFoundError',\n",
              " 'NameError',\n",
              " 'None',\n",
              " 'NotADirectoryError',\n",
              " 'NotImplemented',\n",
              " 'NotImplementedError',\n",
              " 'OSError',\n",
              " 'OverflowError',\n",
              " 'PendingDeprecationWarning',\n",
              " 'PermissionError',\n",
              " 'ProcessLookupError',\n",
              " 'RecursionError',\n",
              " 'ReferenceError',\n",
              " 'ResourceWarning',\n",
              " 'RuntimeError',\n",
              " 'RuntimeWarning',\n",
              " 'StopAsyncIteration',\n",
              " 'StopIteration',\n",
              " 'SyntaxError',\n",
              " 'SyntaxWarning',\n",
              " 'SystemError',\n",
              " 'SystemExit',\n",
              " 'TabError',\n",
              " 'TimeoutError',\n",
              " 'True',\n",
              " 'TypeError',\n",
              " 'UnboundLocalError',\n",
              " 'UnicodeDecodeError',\n",
              " 'UnicodeEncodeError',\n",
              " 'UnicodeError',\n",
              " 'UnicodeTranslateError',\n",
              " 'UnicodeWarning',\n",
              " 'UserWarning',\n",
              " 'ValueError',\n",
              " 'Warning',\n",
              " 'ZeroDivisionError',\n",
              " '__IPYTHON__',\n",
              " '__build_class__',\n",
              " '__debug__',\n",
              " '__doc__',\n",
              " '__import__',\n",
              " '__loader__',\n",
              " '__name__',\n",
              " '__package__',\n",
              " '__spec__',\n",
              " 'abs',\n",
              " 'all',\n",
              " 'any',\n",
              " 'ascii',\n",
              " 'bin',\n",
              " 'bool',\n",
              " 'breakpoint',\n",
              " 'bytearray',\n",
              " 'bytes',\n",
              " 'callable',\n",
              " 'chr',\n",
              " 'classmethod',\n",
              " 'compile',\n",
              " 'complex',\n",
              " 'copyright',\n",
              " 'credits',\n",
              " 'delattr',\n",
              " 'dict',\n",
              " 'dir',\n",
              " 'display',\n",
              " 'divmod',\n",
              " 'dreload',\n",
              " 'enumerate',\n",
              " 'eval',\n",
              " 'exec',\n",
              " 'execfile',\n",
              " 'filter',\n",
              " 'float',\n",
              " 'format',\n",
              " 'frozenset',\n",
              " 'get_ipython',\n",
              " 'getattr',\n",
              " 'globals',\n",
              " 'hasattr',\n",
              " 'hash',\n",
              " 'help',\n",
              " 'hex',\n",
              " 'id',\n",
              " 'input',\n",
              " 'int',\n",
              " 'isinstance',\n",
              " 'issubclass',\n",
              " 'iter',\n",
              " 'len',\n",
              " 'license',\n",
              " 'list',\n",
              " 'locals',\n",
              " 'map',\n",
              " 'max',\n",
              " 'memoryview',\n",
              " 'min',\n",
              " 'next',\n",
              " 'object',\n",
              " 'oct',\n",
              " 'open',\n",
              " 'ord',\n",
              " 'pow',\n",
              " 'print',\n",
              " 'property',\n",
              " 'range',\n",
              " 'repr',\n",
              " 'reversed',\n",
              " 'round',\n",
              " 'runfile',\n",
              " 'set',\n",
              " 'setattr',\n",
              " 'slice',\n",
              " 'sorted',\n",
              " 'staticmethod',\n",
              " 'str',\n",
              " 'sum',\n",
              " 'super',\n",
              " 'tuple',\n",
              " 'type',\n",
              " 'vars',\n",
              " 'zip']"
            ]
          },
          "metadata": {},
          "execution_count": 27
        }
      ]
    },
    {
      "cell_type": "code",
      "source": [
        "g = globals()"
      ],
      "metadata": {
        "id": "Vn7QZFIP44MO"
      },
      "execution_count": null,
      "outputs": []
    },
    {
      "cell_type": "code",
      "source": [
        "g"
      ],
      "metadata": {
        "colab": {
          "base_uri": "https://localhost:8080/"
        },
        "id": "CgDtvAVu6hHm",
        "outputId": "86a3ad35-3e39-4a7c-f6e6-3d082f0dec50"
      },
      "execution_count": null,
      "outputs": [
        {
          "output_type": "execute_result",
          "data": {
            "text/plain": [
              "{'Animal': __main__.Animal,\n",
              " 'Bird': __main__.Bird,\n",
              " 'Color': __main__.Color,\n",
              " 'ComplexNumber': __main__.ComplexNumber,\n",
              " 'In': ['',\n",
              "  'class Bird:\\n\\n    def fly(self):\\n        print(\"Bird can fly\")\\n    \\n    def swim(self):\\n        print(\"Bird can\\'t swim\")\\n\\nclass Shark:\\n\\n    def fly(self):\\n        print(\"Shark can\\'t fly\")\\n    \\n    def swim(self):\\n        print(\"Shark can swim\")\\n\\n# common interface\\ndef flying_test(bird):\\n    bird.fly()\\n\\n#instantiate objects\\nbird = Bird()\\nshark = Shark()\\n\\n# passing the object\\nflying_test(bird)\\nflying_test(shark)',\n",
              "  'print(\"Hello\");',\n",
              "  'class Animal:\\n    pass',\n",
              "  'obj = Animal()',\n",
              "  '### Example 1: Creating Class and Object in Python',\n",
              "  'class Animal:\\n\\n    # class attribute\\n    species = \"wild animal\"\\n\\n    # instance attribute\\n    def __init__(self, name, age):\\n        self.name = name\\n        self.age = age\\n\\n# instantiate the Animal class\\ntiger = Animal(\"tiger\", 10)\\nlion = Animal(\"lion\", 12)\\n\\n# access the class attributes\\nprint(\"tiger is a {}\".format(tiger.__class__.species))\\nprint(\"lion is also a {}\".format(lion.__class__.species))\\n\\n# access the instance attributes\\nprint(\"{} is {} years old\".format( tiger.name, tiger.age))\\nprint(\"{} is {} years old\".format( lion.name, lion.age))',\n",
              "  '#Example 2 : Creating Methods in Python',\n",
              "  'class Animal:\\n    \\n    # instance attributes\\n    def __init__(self, name, age):\\n        self.name = name\\n        self.age = age\\n    \\n    # instance method\\n    def sing(self, song):\\n        return \"{} sings {}\".format(self.name, song)\\n\\n    def dance(self):\\n        return \"{} is now dancing\".format(self.name)\\n\\n# instantiate the object\\ntiger = Animal(\"Tiger\", 10)\\n\\n# call our instance methods\\nprint(tiger.sing(\"\\'Happy\\'\"))\\nprint(tiger.dance())',\n",
              "  '# Example 3: Use of Inheritance in Python',\n",
              "  '# parent class\\nclass Bird:\\n    \\n    def __init__(self):\\n        print(\"Bird is ready\")\\n\\n    def whoisThis(self):\\n        print(\"Bird\")\\n\\n    def swim(self):\\n        print(\"Swim faster\")\\n\\n# child class\\nclass Penguin(Bird):\\n\\n    def __init__(self):\\n        # call super() function\\n        super().__init__()\\n        print(\"Penguin is ready\")\\n\\n    def whoisThis(self):\\n        print(\"Penguin\")\\n\\n    def run(self):\\n        print(\"Run faster\")\\n\\npeggy = Penguin()\\npeggy.whoisThis()\\npeggy.swim()\\npeggy.run()',\n",
              "  '# Example 4: Data Encapsulation in Python',\n",
              "  'class RaspberryPi:\\n\\n    def __init__(self):\\n        self.__maxprice = 8000\\n\\n    def sell(self):\\n        print(\"Selling Price: {}\".format(self.__maxprice))\\n\\n    def setMaxPrice(self, price):\\n        self.__maxprice = price\\n\\nc = RaspberryPi()\\nc.sell()\\n\\n# change the price\\nc.__maxprice = 9000\\nc.sell()\\nc.sell()\\n\\n# using setter function\\nc.setMaxPrice(8500)\\nc.sell()',\n",
              "  '# Example 5: Using Polymorphism in Python',\n",
              "  'class Bird:\\n\\n    def fly(self):\\n        print(\"Bird can fly\")\\n    \\n    def swim(self):\\n        print(\"Bird can\\'t swim\")\\n\\nclass Shark:\\n\\n    def fly(self):\\n        print(\"Shark can\\'t fly\")\\n    \\n    def swim(self):\\n        print(\"Shark can swim\")\\n\\n# common interface\\ndef flying_test(bird):\\n    bird.fly()\\n\\n#instantiate objects\\nbird = Bird()\\nshark = Shark()\\n\\n# passing the object\\nflying_test(bird)\\nflying_test(shark)',\n",
              "  '# Defining a Class in Python',\n",
              "  '###\\nConstructors in Python\\nClass functions that begin with double underscore __ are called special functions as they have special meaning.\\n\\nOf one particular interest is the __init__() function. This special function gets called whenever a new object of that class is instantiated.\\n\\nThis type of function is also called constructors in Object Oriented Programming (OOP). We normally use it to initialize all the variables.\\n###',\n",
              "  '###\\nConstructors in Python\\nClass functions that begin with double underscore __ are called special functions as they have special meaning.\\n\\nOf one particular interest is the __init__() function. This special function gets called whenever a new object of that class is instantiated.\\n\\nThis type of function is also called constructors in Object Oriented Programming (OOP). We normally use it to initialize all the variables.',\n",
              "  '\"\"\"\\nConstructors in Python\\nClass functions that begin with double underscore __ are called special functions as they have special meaning.\\n\\nOf one particular interest is the __init__() function. This special function gets called whenever a new object of that class is instantiated.\\n\\nThis type of function is also called constructors in Object Oriented Programming (OOP). We normally use it to initialize all the variables.\\n\"\"\"',\n",
              "  \"class ComplexNumber:\\n    def __init__(self, r=0, i=0):\\n        self.real = r\\n        self.imag = i\\n\\n    def get_data(self):\\n        print(f'{self.real}+{self.imag}j')\\n\\n\\n# Create a new ComplexNumber object\\nnum1 = ComplexNumber(2, 3)\\n\\n# Call get_data() method\\n# Output: 2+3j\\nnum1.get_data()\\n\\n# Create another ComplexNumber object\\n# and create a new attribute 'attr'\\nnum2 = ComplexNumber(5)\\nnum2.attr = 10\\n\\n# Output: (5, 0, 10)\\nprint((num2.real, num2.imag, num2.attr))\\n\\n# but c1 object doesn't have attribute 'attr'\\n# AttributeError: 'ComplexNumber' object has no attribute 'attr'\\nprint(num1.attr)\",\n",
              "  'class Sample:\\n\\n    def __init__(self, num):\\n        print(\"Constructor of class Sample...\")\\n        self.num = num\\n        print(\"The value is :\", num)\\n\\n\\nS = Sample(100)',\n",
              "  '# Simple Constructor Example\\n\\nclass Sample:\\n\\n    def __init__(self, num):\\n        print(\"Constructor of class Sample...\")\\n        self.num = num\\n        print(\"The value is :\", num)\\n\\n\\nS = Sample(100)',\n",
              "  '# Destructor Example\\n\\nclass Sample:\\n    num = 0\\n\\n    def __init__(self, var):\\n        Sample.num += 1\\n        self.var = var\\n\\n        print(\"Object value is = \", var)\\n        print(\"Variable value = \", Sample.num)\\n\\n    def __del__(self):\\n        Sample.num -= 1\\n\\n        print(\"Object with value %d is exit from the scope\" % self.var)\\n\\n\\nS1 = Sample(10)',\n",
              "  '# Destructor Example\\n\\nclass Sample:\\n    num = 0\\n\\n    def __init__(self, var):\\n        Sample.num += 1\\n        self.var = var\\n\\n        print(\"Object value is = \", var)\\n        print(\"Variable value = \", Sample.num)\\n\\n    def __del__(self):\\n        Sample.num -= 1\\n\\n        print(\"Object with value %d is exit from the scope\" % self.var)\\n\\n\\nS1 = Sample(10)',\n",
              "  '# Destructor Example\\n# Constructor and destructor function automatically executed in Python.\\n# Constructor when an object of a class is created and Destructor when an object exit from the scope.\\n\\nclass Sample:\\n    num = 0\\n\\n    def __init__(self, var):\\n        Sample.num += 1\\n        self.var = var\\n\\n        print(\"Object value is = \", var)\\n        print(\"Variable value = \", Sample.num)\\n\\n    def __del__(self):\\n        Sample.num -= 1\\n\\n        print(\"Object with value %d is exit from the scope\" % self.var)\\n\\n\\nS1 = Sample(10)',\n",
              "  '\"\"\"\\nA class defined in another class is known as inner class or nested class.\\nIf an object is created using child class means inner class then the object can also be used by parent class or root class.\\nA parent class can have one or more inner class but generally inner classes are avoided.\\n\"\"\"\\n\\n# create a Color class\\nclass Color:\\n    \\n  # constructor method\\n  def __init__(self):\\n    # object attributes\\n    self.name = \\'Green\\'\\n    self.lg = self.Lightgreen()\\n    \\n  def show(self):\\n    print(\"Name:\", self.name)\\n    \\n  # create Lightgreen class\\n  class Lightgreen:\\n     def __init__(self):\\n        self.name = \\'Light Green\\'\\n        self.code = \\'024avc\\'\\n    \\n     def display(self):\\n        print(\"Name:\", self.name)\\n        print(\"Code:\", self.code)\\n  \\n# create Color class object\\nouter = Color()\\n  \\n# method calling\\nouter.show()\\n  \\n# create a Lightgreen \\n# inner class object\\ng = outer.lg\\n  \\n# inner class method calling\\ng.display()',\n",
              "  \"# Python program to demonstrate\\n# use of class method and static method.\\nfrom datetime import date\\n  \\nclass Person:\\n    def __init__(self, name, age):\\n        self.name = name\\n        self.age = age\\n      \\n    # a class method to create a Person object by birth year.\\n    @classmethod\\n    def fromBirthYear(cls, name, year):\\n        return cls(name, date.today().year - year)\\n      \\n    # a static method to check if a Person is adult or not.\\n    @staticmethod\\n    def isAdult(age):\\n        return age > 18\\n  \\nperson1 = Person('mayank', 21)\\nperson2 = Person.fromBirthYear('mayank', 1996)\\n  \\nprint (person1.age)\\nprint (person2.age)\\n  \\n# print the result\\nprint (Person.isAdult(22))\",\n",
              "  '\"\"\"\\nA namespace is a collection of currently defined symbolic names along with information about the object that each name references.\\nYou can think of a namespace as a dictionary in which the keys are the object names and the values are the objects themselves. \\nIn a Python program, there are four types of namespaces:\\n\\nBuilt-In\\nGlobal\\nEnclosing\\nLocal\\n\"\"\"\\ndir(__builtins__)',\n",
              "  'g = globals()',\n",
              "  'g'],\n",
              " 'Out': {18: '\\nConstructors in Python\\nClass functions that begin with double underscore __ are called special functions as they have special meaning.\\n\\nOf one particular interest is the __init__() function. This special function gets called whenever a new object of that class is instantiated.\\n\\nThis type of function is also called constructors in Object Oriented Programming (OOP). We normally use it to initialize all the variables.\\n',\n",
              "  27: ['ArithmeticError',\n",
              "   'AssertionError',\n",
              "   'AttributeError',\n",
              "   'BaseException',\n",
              "   'BlockingIOError',\n",
              "   'BrokenPipeError',\n",
              "   'BufferError',\n",
              "   'BytesWarning',\n",
              "   'ChildProcessError',\n",
              "   'ConnectionAbortedError',\n",
              "   'ConnectionError',\n",
              "   'ConnectionRefusedError',\n",
              "   'ConnectionResetError',\n",
              "   'DeprecationWarning',\n",
              "   'EOFError',\n",
              "   'Ellipsis',\n",
              "   'EnvironmentError',\n",
              "   'Exception',\n",
              "   'False',\n",
              "   'FileExistsError',\n",
              "   'FileNotFoundError',\n",
              "   'FloatingPointError',\n",
              "   'FutureWarning',\n",
              "   'GeneratorExit',\n",
              "   'IOError',\n",
              "   'ImportError',\n",
              "   'ImportWarning',\n",
              "   'IndentationError',\n",
              "   'IndexError',\n",
              "   'InterruptedError',\n",
              "   'IsADirectoryError',\n",
              "   'KeyError',\n",
              "   'KeyboardInterrupt',\n",
              "   'LookupError',\n",
              "   'MemoryError',\n",
              "   'ModuleNotFoundError',\n",
              "   'NameError',\n",
              "   'None',\n",
              "   'NotADirectoryError',\n",
              "   'NotImplemented',\n",
              "   'NotImplementedError',\n",
              "   'OSError',\n",
              "   'OverflowError',\n",
              "   'PendingDeprecationWarning',\n",
              "   'PermissionError',\n",
              "   'ProcessLookupError',\n",
              "   'RecursionError',\n",
              "   'ReferenceError',\n",
              "   'ResourceWarning',\n",
              "   'RuntimeError',\n",
              "   'RuntimeWarning',\n",
              "   'StopAsyncIteration',\n",
              "   'StopIteration',\n",
              "   'SyntaxError',\n",
              "   'SyntaxWarning',\n",
              "   'SystemError',\n",
              "   'SystemExit',\n",
              "   'TabError',\n",
              "   'TimeoutError',\n",
              "   'True',\n",
              "   'TypeError',\n",
              "   'UnboundLocalError',\n",
              "   'UnicodeDecodeError',\n",
              "   'UnicodeEncodeError',\n",
              "   'UnicodeError',\n",
              "   'UnicodeTranslateError',\n",
              "   'UnicodeWarning',\n",
              "   'UserWarning',\n",
              "   'ValueError',\n",
              "   'Warning',\n",
              "   'ZeroDivisionError',\n",
              "   '__IPYTHON__',\n",
              "   '__build_class__',\n",
              "   '__debug__',\n",
              "   '__doc__',\n",
              "   '__import__',\n",
              "   '__loader__',\n",
              "   '__name__',\n",
              "   '__package__',\n",
              "   '__spec__',\n",
              "   'abs',\n",
              "   'all',\n",
              "   'any',\n",
              "   'ascii',\n",
              "   'bin',\n",
              "   'bool',\n",
              "   'breakpoint',\n",
              "   'bytearray',\n",
              "   'bytes',\n",
              "   'callable',\n",
              "   'chr',\n",
              "   'classmethod',\n",
              "   'compile',\n",
              "   'complex',\n",
              "   'copyright',\n",
              "   'credits',\n",
              "   'delattr',\n",
              "   'dict',\n",
              "   'dir',\n",
              "   'display',\n",
              "   'divmod',\n",
              "   'dreload',\n",
              "   'enumerate',\n",
              "   'eval',\n",
              "   'exec',\n",
              "   'execfile',\n",
              "   'filter',\n",
              "   'float',\n",
              "   'format',\n",
              "   'frozenset',\n",
              "   'get_ipython',\n",
              "   'getattr',\n",
              "   'globals',\n",
              "   'hasattr',\n",
              "   'hash',\n",
              "   'help',\n",
              "   'hex',\n",
              "   'id',\n",
              "   'input',\n",
              "   'int',\n",
              "   'isinstance',\n",
              "   'issubclass',\n",
              "   'iter',\n",
              "   'len',\n",
              "   'license',\n",
              "   'list',\n",
              "   'locals',\n",
              "   'map',\n",
              "   'max',\n",
              "   'memoryview',\n",
              "   'min',\n",
              "   'next',\n",
              "   'object',\n",
              "   'oct',\n",
              "   'open',\n",
              "   'ord',\n",
              "   'pow',\n",
              "   'print',\n",
              "   'property',\n",
              "   'range',\n",
              "   'repr',\n",
              "   'reversed',\n",
              "   'round',\n",
              "   'runfile',\n",
              "   'set',\n",
              "   'setattr',\n",
              "   'slice',\n",
              "   'sorted',\n",
              "   'staticmethod',\n",
              "   'str',\n",
              "   'sum',\n",
              "   'super',\n",
              "   'tuple',\n",
              "   'type',\n",
              "   'vars',\n",
              "   'zip']},\n",
              " 'Penguin': __main__.Penguin,\n",
              " 'Person': __main__.Person,\n",
              " 'RaspberryPi': __main__.RaspberryPi,\n",
              " 'S': <__main__.Sample at 0x7f480af0b4d0>,\n",
              " 'S1': <__main__.Sample at 0x7f480af0b2d0>,\n",
              " 'Sample': __main__.Sample,\n",
              " 'Shark': __main__.Shark,\n",
              " '_': ['ArithmeticError',\n",
              "  'AssertionError',\n",
              "  'AttributeError',\n",
              "  'BaseException',\n",
              "  'BlockingIOError',\n",
              "  'BrokenPipeError',\n",
              "  'BufferError',\n",
              "  'BytesWarning',\n",
              "  'ChildProcessError',\n",
              "  'ConnectionAbortedError',\n",
              "  'ConnectionError',\n",
              "  'ConnectionRefusedError',\n",
              "  'ConnectionResetError',\n",
              "  'DeprecationWarning',\n",
              "  'EOFError',\n",
              "  'Ellipsis',\n",
              "  'EnvironmentError',\n",
              "  'Exception',\n",
              "  'False',\n",
              "  'FileExistsError',\n",
              "  'FileNotFoundError',\n",
              "  'FloatingPointError',\n",
              "  'FutureWarning',\n",
              "  'GeneratorExit',\n",
              "  'IOError',\n",
              "  'ImportError',\n",
              "  'ImportWarning',\n",
              "  'IndentationError',\n",
              "  'IndexError',\n",
              "  'InterruptedError',\n",
              "  'IsADirectoryError',\n",
              "  'KeyError',\n",
              "  'KeyboardInterrupt',\n",
              "  'LookupError',\n",
              "  'MemoryError',\n",
              "  'ModuleNotFoundError',\n",
              "  'NameError',\n",
              "  'None',\n",
              "  'NotADirectoryError',\n",
              "  'NotImplemented',\n",
              "  'NotImplementedError',\n",
              "  'OSError',\n",
              "  'OverflowError',\n",
              "  'PendingDeprecationWarning',\n",
              "  'PermissionError',\n",
              "  'ProcessLookupError',\n",
              "  'RecursionError',\n",
              "  'ReferenceError',\n",
              "  'ResourceWarning',\n",
              "  'RuntimeError',\n",
              "  'RuntimeWarning',\n",
              "  'StopAsyncIteration',\n",
              "  'StopIteration',\n",
              "  'SyntaxError',\n",
              "  'SyntaxWarning',\n",
              "  'SystemError',\n",
              "  'SystemExit',\n",
              "  'TabError',\n",
              "  'TimeoutError',\n",
              "  'True',\n",
              "  'TypeError',\n",
              "  'UnboundLocalError',\n",
              "  'UnicodeDecodeError',\n",
              "  'UnicodeEncodeError',\n",
              "  'UnicodeError',\n",
              "  'UnicodeTranslateError',\n",
              "  'UnicodeWarning',\n",
              "  'UserWarning',\n",
              "  'ValueError',\n",
              "  'Warning',\n",
              "  'ZeroDivisionError',\n",
              "  '__IPYTHON__',\n",
              "  '__build_class__',\n",
              "  '__debug__',\n",
              "  '__doc__',\n",
              "  '__import__',\n",
              "  '__loader__',\n",
              "  '__name__',\n",
              "  '__package__',\n",
              "  '__spec__',\n",
              "  'abs',\n",
              "  'all',\n",
              "  'any',\n",
              "  'ascii',\n",
              "  'bin',\n",
              "  'bool',\n",
              "  'breakpoint',\n",
              "  'bytearray',\n",
              "  'bytes',\n",
              "  'callable',\n",
              "  'chr',\n",
              "  'classmethod',\n",
              "  'compile',\n",
              "  'complex',\n",
              "  'copyright',\n",
              "  'credits',\n",
              "  'delattr',\n",
              "  'dict',\n",
              "  'dir',\n",
              "  'display',\n",
              "  'divmod',\n",
              "  'dreload',\n",
              "  'enumerate',\n",
              "  'eval',\n",
              "  'exec',\n",
              "  'execfile',\n",
              "  'filter',\n",
              "  'float',\n",
              "  'format',\n",
              "  'frozenset',\n",
              "  'get_ipython',\n",
              "  'getattr',\n",
              "  'globals',\n",
              "  'hasattr',\n",
              "  'hash',\n",
              "  'help',\n",
              "  'hex',\n",
              "  'id',\n",
              "  'input',\n",
              "  'int',\n",
              "  'isinstance',\n",
              "  'issubclass',\n",
              "  'iter',\n",
              "  'len',\n",
              "  'license',\n",
              "  'list',\n",
              "  'locals',\n",
              "  'map',\n",
              "  'max',\n",
              "  'memoryview',\n",
              "  'min',\n",
              "  'next',\n",
              "  'object',\n",
              "  'oct',\n",
              "  'open',\n",
              "  'ord',\n",
              "  'pow',\n",
              "  'print',\n",
              "  'property',\n",
              "  'range',\n",
              "  'repr',\n",
              "  'reversed',\n",
              "  'round',\n",
              "  'runfile',\n",
              "  'set',\n",
              "  'setattr',\n",
              "  'slice',\n",
              "  'sorted',\n",
              "  'staticmethod',\n",
              "  'str',\n",
              "  'sum',\n",
              "  'super',\n",
              "  'tuple',\n",
              "  'type',\n",
              "  'vars',\n",
              "  'zip'],\n",
              " '_18': '\\nConstructors in Python\\nClass functions that begin with double underscore __ are called special functions as they have special meaning.\\n\\nOf one particular interest is the __init__() function. This special function gets called whenever a new object of that class is instantiated.\\n\\nThis type of function is also called constructors in Object Oriented Programming (OOP). We normally use it to initialize all the variables.\\n',\n",
              " '_27': ['ArithmeticError',\n",
              "  'AssertionError',\n",
              "  'AttributeError',\n",
              "  'BaseException',\n",
              "  'BlockingIOError',\n",
              "  'BrokenPipeError',\n",
              "  'BufferError',\n",
              "  'BytesWarning',\n",
              "  'ChildProcessError',\n",
              "  'ConnectionAbortedError',\n",
              "  'ConnectionError',\n",
              "  'ConnectionRefusedError',\n",
              "  'ConnectionResetError',\n",
              "  'DeprecationWarning',\n",
              "  'EOFError',\n",
              "  'Ellipsis',\n",
              "  'EnvironmentError',\n",
              "  'Exception',\n",
              "  'False',\n",
              "  'FileExistsError',\n",
              "  'FileNotFoundError',\n",
              "  'FloatingPointError',\n",
              "  'FutureWarning',\n",
              "  'GeneratorExit',\n",
              "  'IOError',\n",
              "  'ImportError',\n",
              "  'ImportWarning',\n",
              "  'IndentationError',\n",
              "  'IndexError',\n",
              "  'InterruptedError',\n",
              "  'IsADirectoryError',\n",
              "  'KeyError',\n",
              "  'KeyboardInterrupt',\n",
              "  'LookupError',\n",
              "  'MemoryError',\n",
              "  'ModuleNotFoundError',\n",
              "  'NameError',\n",
              "  'None',\n",
              "  'NotADirectoryError',\n",
              "  'NotImplemented',\n",
              "  'NotImplementedError',\n",
              "  'OSError',\n",
              "  'OverflowError',\n",
              "  'PendingDeprecationWarning',\n",
              "  'PermissionError',\n",
              "  'ProcessLookupError',\n",
              "  'RecursionError',\n",
              "  'ReferenceError',\n",
              "  'ResourceWarning',\n",
              "  'RuntimeError',\n",
              "  'RuntimeWarning',\n",
              "  'StopAsyncIteration',\n",
              "  'StopIteration',\n",
              "  'SyntaxError',\n",
              "  'SyntaxWarning',\n",
              "  'SystemError',\n",
              "  'SystemExit',\n",
              "  'TabError',\n",
              "  'TimeoutError',\n",
              "  'True',\n",
              "  'TypeError',\n",
              "  'UnboundLocalError',\n",
              "  'UnicodeDecodeError',\n",
              "  'UnicodeEncodeError',\n",
              "  'UnicodeError',\n",
              "  'UnicodeTranslateError',\n",
              "  'UnicodeWarning',\n",
              "  'UserWarning',\n",
              "  'ValueError',\n",
              "  'Warning',\n",
              "  'ZeroDivisionError',\n",
              "  '__IPYTHON__',\n",
              "  '__build_class__',\n",
              "  '__debug__',\n",
              "  '__doc__',\n",
              "  '__import__',\n",
              "  '__loader__',\n",
              "  '__name__',\n",
              "  '__package__',\n",
              "  '__spec__',\n",
              "  'abs',\n",
              "  'all',\n",
              "  'any',\n",
              "  'ascii',\n",
              "  'bin',\n",
              "  'bool',\n",
              "  'breakpoint',\n",
              "  'bytearray',\n",
              "  'bytes',\n",
              "  'callable',\n",
              "  'chr',\n",
              "  'classmethod',\n",
              "  'compile',\n",
              "  'complex',\n",
              "  'copyright',\n",
              "  'credits',\n",
              "  'delattr',\n",
              "  'dict',\n",
              "  'dir',\n",
              "  'display',\n",
              "  'divmod',\n",
              "  'dreload',\n",
              "  'enumerate',\n",
              "  'eval',\n",
              "  'exec',\n",
              "  'execfile',\n",
              "  'filter',\n",
              "  'float',\n",
              "  'format',\n",
              "  'frozenset',\n",
              "  'get_ipython',\n",
              "  'getattr',\n",
              "  'globals',\n",
              "  'hasattr',\n",
              "  'hash',\n",
              "  'help',\n",
              "  'hex',\n",
              "  'id',\n",
              "  'input',\n",
              "  'int',\n",
              "  'isinstance',\n",
              "  'issubclass',\n",
              "  'iter',\n",
              "  'len',\n",
              "  'license',\n",
              "  'list',\n",
              "  'locals',\n",
              "  'map',\n",
              "  'max',\n",
              "  'memoryview',\n",
              "  'min',\n",
              "  'next',\n",
              "  'object',\n",
              "  'oct',\n",
              "  'open',\n",
              "  'ord',\n",
              "  'pow',\n",
              "  'print',\n",
              "  'property',\n",
              "  'range',\n",
              "  'repr',\n",
              "  'reversed',\n",
              "  'round',\n",
              "  'runfile',\n",
              "  'set',\n",
              "  'setattr',\n",
              "  'slice',\n",
              "  'sorted',\n",
              "  'staticmethod',\n",
              "  'str',\n",
              "  'sum',\n",
              "  'super',\n",
              "  'tuple',\n",
              "  'type',\n",
              "  'vars',\n",
              "  'zip'],\n",
              " '__': '\\nConstructors in Python\\nClass functions that begin with double underscore __ are called special functions as they have special meaning.\\n\\nOf one particular interest is the __init__() function. This special function gets called whenever a new object of that class is instantiated.\\n\\nThis type of function is also called constructors in Object Oriented Programming (OOP). We normally use it to initialize all the variables.\\n',\n",
              " '___': '',\n",
              " '__builtin__': <module 'builtins' (built-in)>,\n",
              " '__builtins__': <module 'builtins' (built-in)>,\n",
              " '__doc__': '\\nA namespace is a collection of currently defined symbolic names along with information about the object that each name references.\\nYou can think of a namespace as a dictionary in which the keys are the object names and the values are the objects themselves. \\nIn a Python program, there are four types of namespaces:\\n\\nBuilt-In\\nGlobal\\nEnclosing\\nLocal\\n',\n",
              " '__loader__': None,\n",
              " '__name__': '__main__',\n",
              " '__package__': None,\n",
              " '__spec__': None,\n",
              " '_dh': ['/content'],\n",
              " '_i': 'g = globals()',\n",
              " '_i1': 'class Bird:\\n\\n    def fly(self):\\n        print(\"Bird can fly\")\\n    \\n    def swim(self):\\n        print(\"Bird can\\'t swim\")\\n\\nclass Shark:\\n\\n    def fly(self):\\n        print(\"Shark can\\'t fly\")\\n    \\n    def swim(self):\\n        print(\"Shark can swim\")\\n\\n# common interface\\ndef flying_test(bird):\\n    bird.fly()\\n\\n#instantiate objects\\nbird = Bird()\\nshark = Shark()\\n\\n# passing the object\\nflying_test(bird)\\nflying_test(shark)',\n",
              " '_i10': '# parent class\\nclass Bird:\\n    \\n    def __init__(self):\\n        print(\"Bird is ready\")\\n\\n    def whoisThis(self):\\n        print(\"Bird\")\\n\\n    def swim(self):\\n        print(\"Swim faster\")\\n\\n# child class\\nclass Penguin(Bird):\\n\\n    def __init__(self):\\n        # call super() function\\n        super().__init__()\\n        print(\"Penguin is ready\")\\n\\n    def whoisThis(self):\\n        print(\"Penguin\")\\n\\n    def run(self):\\n        print(\"Run faster\")\\n\\npeggy = Penguin()\\npeggy.whoisThis()\\npeggy.swim()\\npeggy.run()',\n",
              " '_i11': '# Example 4: Data Encapsulation in Python',\n",
              " '_i12': 'class RaspberryPi:\\n\\n    def __init__(self):\\n        self.__maxprice = 8000\\n\\n    def sell(self):\\n        print(\"Selling Price: {}\".format(self.__maxprice))\\n\\n    def setMaxPrice(self, price):\\n        self.__maxprice = price\\n\\nc = RaspberryPi()\\nc.sell()\\n\\n# change the price\\nc.__maxprice = 9000\\nc.sell()\\nc.sell()\\n\\n# using setter function\\nc.setMaxPrice(8500)\\nc.sell()',\n",
              " '_i13': '# Example 5: Using Polymorphism in Python',\n",
              " '_i14': 'class Bird:\\n\\n    def fly(self):\\n        print(\"Bird can fly\")\\n    \\n    def swim(self):\\n        print(\"Bird can\\'t swim\")\\n\\nclass Shark:\\n\\n    def fly(self):\\n        print(\"Shark can\\'t fly\")\\n    \\n    def swim(self):\\n        print(\"Shark can swim\")\\n\\n# common interface\\ndef flying_test(bird):\\n    bird.fly()\\n\\n#instantiate objects\\nbird = Bird()\\nshark = Shark()\\n\\n# passing the object\\nflying_test(bird)\\nflying_test(shark)',\n",
              " '_i15': '# Defining a Class in Python',\n",
              " '_i16': '###\\nConstructors in Python\\nClass functions that begin with double underscore __ are called special functions as they have special meaning.\\n\\nOf one particular interest is the __init__() function. This special function gets called whenever a new object of that class is instantiated.\\n\\nThis type of function is also called constructors in Object Oriented Programming (OOP). We normally use it to initialize all the variables.\\n###',\n",
              " '_i17': '###\\nConstructors in Python\\nClass functions that begin with double underscore __ are called special functions as they have special meaning.\\n\\nOf one particular interest is the __init__() function. This special function gets called whenever a new object of that class is instantiated.\\n\\nThis type of function is also called constructors in Object Oriented Programming (OOP). We normally use it to initialize all the variables.',\n",
              " '_i18': '\"\"\"\\nConstructors in Python\\nClass functions that begin with double underscore __ are called special functions as they have special meaning.\\n\\nOf one particular interest is the __init__() function. This special function gets called whenever a new object of that class is instantiated.\\n\\nThis type of function is also called constructors in Object Oriented Programming (OOP). We normally use it to initialize all the variables.\\n\"\"\"',\n",
              " '_i19': \"class ComplexNumber:\\n    def __init__(self, r=0, i=0):\\n        self.real = r\\n        self.imag = i\\n\\n    def get_data(self):\\n        print(f'{self.real}+{self.imag}j')\\n\\n\\n# Create a new ComplexNumber object\\nnum1 = ComplexNumber(2, 3)\\n\\n# Call get_data() method\\n# Output: 2+3j\\nnum1.get_data()\\n\\n# Create another ComplexNumber object\\n# and create a new attribute 'attr'\\nnum2 = ComplexNumber(5)\\nnum2.attr = 10\\n\\n# Output: (5, 0, 10)\\nprint((num2.real, num2.imag, num2.attr))\\n\\n# but c1 object doesn't have attribute 'attr'\\n# AttributeError: 'ComplexNumber' object has no attribute 'attr'\\nprint(num1.attr)\",\n",
              " '_i2': 'print(\"Hello\");',\n",
              " '_i20': 'class Sample:\\n\\n    def __init__(self, num):\\n        print(\"Constructor of class Sample...\")\\n        self.num = num\\n        print(\"The value is :\", num)\\n\\n\\nS = Sample(100)',\n",
              " '_i21': '# Simple Constructor Example\\n\\nclass Sample:\\n\\n    def __init__(self, num):\\n        print(\"Constructor of class Sample...\")\\n        self.num = num\\n        print(\"The value is :\", num)\\n\\n\\nS = Sample(100)',\n",
              " '_i22': '# Destructor Example\\n\\nclass Sample:\\n    num = 0\\n\\n    def __init__(self, var):\\n        Sample.num += 1\\n        self.var = var\\n\\n        print(\"Object value is = \", var)\\n        print(\"Variable value = \", Sample.num)\\n\\n    def __del__(self):\\n        Sample.num -= 1\\n\\n        print(\"Object with value %d is exit from the scope\" % self.var)\\n\\n\\nS1 = Sample(10)',\n",
              " '_i23': '# Destructor Example\\n\\nclass Sample:\\n    num = 0\\n\\n    def __init__(self, var):\\n        Sample.num += 1\\n        self.var = var\\n\\n        print(\"Object value is = \", var)\\n        print(\"Variable value = \", Sample.num)\\n\\n    def __del__(self):\\n        Sample.num -= 1\\n\\n        print(\"Object with value %d is exit from the scope\" % self.var)\\n\\n\\nS1 = Sample(10)',\n",
              " '_i24': '# Destructor Example\\n# Constructor and destructor function automatically executed in Python.\\n# Constructor when an object of a class is created and Destructor when an object exit from the scope.\\n\\nclass Sample:\\n    num = 0\\n\\n    def __init__(self, var):\\n        Sample.num += 1\\n        self.var = var\\n\\n        print(\"Object value is = \", var)\\n        print(\"Variable value = \", Sample.num)\\n\\n    def __del__(self):\\n        Sample.num -= 1\\n\\n        print(\"Object with value %d is exit from the scope\" % self.var)\\n\\n\\nS1 = Sample(10)',\n",
              " '_i25': '\"\"\"\\nA class defined in another class is known as inner class or nested class.\\nIf an object is created using child class means inner class then the object can also be used by parent class or root class.\\nA parent class can have one or more inner class but generally inner classes are avoided.\\n\"\"\"\\n\\n# create a Color class\\nclass Color:\\n    \\n  # constructor method\\n  def __init__(self):\\n    # object attributes\\n    self.name = \\'Green\\'\\n    self.lg = self.Lightgreen()\\n    \\n  def show(self):\\n    print(\"Name:\", self.name)\\n    \\n  # create Lightgreen class\\n  class Lightgreen:\\n     def __init__(self):\\n        self.name = \\'Light Green\\'\\n        self.code = \\'024avc\\'\\n    \\n     def display(self):\\n        print(\"Name:\", self.name)\\n        print(\"Code:\", self.code)\\n  \\n# create Color class object\\nouter = Color()\\n  \\n# method calling\\nouter.show()\\n  \\n# create a Lightgreen \\n# inner class object\\ng = outer.lg\\n  \\n# inner class method calling\\ng.display()',\n",
              " '_i26': \"# Python program to demonstrate\\n# use of class method and static method.\\nfrom datetime import date\\n  \\nclass Person:\\n    def __init__(self, name, age):\\n        self.name = name\\n        self.age = age\\n      \\n    # a class method to create a Person object by birth year.\\n    @classmethod\\n    def fromBirthYear(cls, name, year):\\n        return cls(name, date.today().year - year)\\n      \\n    # a static method to check if a Person is adult or not.\\n    @staticmethod\\n    def isAdult(age):\\n        return age > 18\\n  \\nperson1 = Person('mayank', 21)\\nperson2 = Person.fromBirthYear('mayank', 1996)\\n  \\nprint (person1.age)\\nprint (person2.age)\\n  \\n# print the result\\nprint (Person.isAdult(22))\",\n",
              " '_i27': '\"\"\"\\nA namespace is a collection of currently defined symbolic names along with information about the object that each name references.\\nYou can think of a namespace as a dictionary in which the keys are the object names and the values are the objects themselves. \\nIn a Python program, there are four types of namespaces:\\n\\nBuilt-In\\nGlobal\\nEnclosing\\nLocal\\n\"\"\"\\ndir(__builtins__)',\n",
              " '_i28': 'g = globals()',\n",
              " '_i29': 'g',\n",
              " '_i3': 'class Animal:\\n    pass',\n",
              " '_i4': 'obj = Animal()',\n",
              " '_i5': '### Example 1: Creating Class and Object in Python',\n",
              " '_i6': 'class Animal:\\n\\n    # class attribute\\n    species = \"wild animal\"\\n\\n    # instance attribute\\n    def __init__(self, name, age):\\n        self.name = name\\n        self.age = age\\n\\n# instantiate the Animal class\\ntiger = Animal(\"tiger\", 10)\\nlion = Animal(\"lion\", 12)\\n\\n# access the class attributes\\nprint(\"tiger is a {}\".format(tiger.__class__.species))\\nprint(\"lion is also a {}\".format(lion.__class__.species))\\n\\n# access the instance attributes\\nprint(\"{} is {} years old\".format( tiger.name, tiger.age))\\nprint(\"{} is {} years old\".format( lion.name, lion.age))',\n",
              " '_i7': '#Example 2 : Creating Methods in Python',\n",
              " '_i8': 'class Animal:\\n    \\n    # instance attributes\\n    def __init__(self, name, age):\\n        self.name = name\\n        self.age = age\\n    \\n    # instance method\\n    def sing(self, song):\\n        return \"{} sings {}\".format(self.name, song)\\n\\n    def dance(self):\\n        return \"{} is now dancing\".format(self.name)\\n\\n# instantiate the object\\ntiger = Animal(\"Tiger\", 10)\\n\\n# call our instance methods\\nprint(tiger.sing(\"\\'Happy\\'\"))\\nprint(tiger.dance())',\n",
              " '_i9': '# Example 3: Use of Inheritance in Python',\n",
              " '_ih': ['',\n",
              "  'class Bird:\\n\\n    def fly(self):\\n        print(\"Bird can fly\")\\n    \\n    def swim(self):\\n        print(\"Bird can\\'t swim\")\\n\\nclass Shark:\\n\\n    def fly(self):\\n        print(\"Shark can\\'t fly\")\\n    \\n    def swim(self):\\n        print(\"Shark can swim\")\\n\\n# common interface\\ndef flying_test(bird):\\n    bird.fly()\\n\\n#instantiate objects\\nbird = Bird()\\nshark = Shark()\\n\\n# passing the object\\nflying_test(bird)\\nflying_test(shark)',\n",
              "  'print(\"Hello\");',\n",
              "  'class Animal:\\n    pass',\n",
              "  'obj = Animal()',\n",
              "  '### Example 1: Creating Class and Object in Python',\n",
              "  'class Animal:\\n\\n    # class attribute\\n    species = \"wild animal\"\\n\\n    # instance attribute\\n    def __init__(self, name, age):\\n        self.name = name\\n        self.age = age\\n\\n# instantiate the Animal class\\ntiger = Animal(\"tiger\", 10)\\nlion = Animal(\"lion\", 12)\\n\\n# access the class attributes\\nprint(\"tiger is a {}\".format(tiger.__class__.species))\\nprint(\"lion is also a {}\".format(lion.__class__.species))\\n\\n# access the instance attributes\\nprint(\"{} is {} years old\".format( tiger.name, tiger.age))\\nprint(\"{} is {} years old\".format( lion.name, lion.age))',\n",
              "  '#Example 2 : Creating Methods in Python',\n",
              "  'class Animal:\\n    \\n    # instance attributes\\n    def __init__(self, name, age):\\n        self.name = name\\n        self.age = age\\n    \\n    # instance method\\n    def sing(self, song):\\n        return \"{} sings {}\".format(self.name, song)\\n\\n    def dance(self):\\n        return \"{} is now dancing\".format(self.name)\\n\\n# instantiate the object\\ntiger = Animal(\"Tiger\", 10)\\n\\n# call our instance methods\\nprint(tiger.sing(\"\\'Happy\\'\"))\\nprint(tiger.dance())',\n",
              "  '# Example 3: Use of Inheritance in Python',\n",
              "  '# parent class\\nclass Bird:\\n    \\n    def __init__(self):\\n        print(\"Bird is ready\")\\n\\n    def whoisThis(self):\\n        print(\"Bird\")\\n\\n    def swim(self):\\n        print(\"Swim faster\")\\n\\n# child class\\nclass Penguin(Bird):\\n\\n    def __init__(self):\\n        # call super() function\\n        super().__init__()\\n        print(\"Penguin is ready\")\\n\\n    def whoisThis(self):\\n        print(\"Penguin\")\\n\\n    def run(self):\\n        print(\"Run faster\")\\n\\npeggy = Penguin()\\npeggy.whoisThis()\\npeggy.swim()\\npeggy.run()',\n",
              "  '# Example 4: Data Encapsulation in Python',\n",
              "  'class RaspberryPi:\\n\\n    def __init__(self):\\n        self.__maxprice = 8000\\n\\n    def sell(self):\\n        print(\"Selling Price: {}\".format(self.__maxprice))\\n\\n    def setMaxPrice(self, price):\\n        self.__maxprice = price\\n\\nc = RaspberryPi()\\nc.sell()\\n\\n# change the price\\nc.__maxprice = 9000\\nc.sell()\\nc.sell()\\n\\n# using setter function\\nc.setMaxPrice(8500)\\nc.sell()',\n",
              "  '# Example 5: Using Polymorphism in Python',\n",
              "  'class Bird:\\n\\n    def fly(self):\\n        print(\"Bird can fly\")\\n    \\n    def swim(self):\\n        print(\"Bird can\\'t swim\")\\n\\nclass Shark:\\n\\n    def fly(self):\\n        print(\"Shark can\\'t fly\")\\n    \\n    def swim(self):\\n        print(\"Shark can swim\")\\n\\n# common interface\\ndef flying_test(bird):\\n    bird.fly()\\n\\n#instantiate objects\\nbird = Bird()\\nshark = Shark()\\n\\n# passing the object\\nflying_test(bird)\\nflying_test(shark)',\n",
              "  '# Defining a Class in Python',\n",
              "  '###\\nConstructors in Python\\nClass functions that begin with double underscore __ are called special functions as they have special meaning.\\n\\nOf one particular interest is the __init__() function. This special function gets called whenever a new object of that class is instantiated.\\n\\nThis type of function is also called constructors in Object Oriented Programming (OOP). We normally use it to initialize all the variables.\\n###',\n",
              "  '###\\nConstructors in Python\\nClass functions that begin with double underscore __ are called special functions as they have special meaning.\\n\\nOf one particular interest is the __init__() function. This special function gets called whenever a new object of that class is instantiated.\\n\\nThis type of function is also called constructors in Object Oriented Programming (OOP). We normally use it to initialize all the variables.',\n",
              "  '\"\"\"\\nConstructors in Python\\nClass functions that begin with double underscore __ are called special functions as they have special meaning.\\n\\nOf one particular interest is the __init__() function. This special function gets called whenever a new object of that class is instantiated.\\n\\nThis type of function is also called constructors in Object Oriented Programming (OOP). We normally use it to initialize all the variables.\\n\"\"\"',\n",
              "  \"class ComplexNumber:\\n    def __init__(self, r=0, i=0):\\n        self.real = r\\n        self.imag = i\\n\\n    def get_data(self):\\n        print(f'{self.real}+{self.imag}j')\\n\\n\\n# Create a new ComplexNumber object\\nnum1 = ComplexNumber(2, 3)\\n\\n# Call get_data() method\\n# Output: 2+3j\\nnum1.get_data()\\n\\n# Create another ComplexNumber object\\n# and create a new attribute 'attr'\\nnum2 = ComplexNumber(5)\\nnum2.attr = 10\\n\\n# Output: (5, 0, 10)\\nprint((num2.real, num2.imag, num2.attr))\\n\\n# but c1 object doesn't have attribute 'attr'\\n# AttributeError: 'ComplexNumber' object has no attribute 'attr'\\nprint(num1.attr)\",\n",
              "  'class Sample:\\n\\n    def __init__(self, num):\\n        print(\"Constructor of class Sample...\")\\n        self.num = num\\n        print(\"The value is :\", num)\\n\\n\\nS = Sample(100)',\n",
              "  '# Simple Constructor Example\\n\\nclass Sample:\\n\\n    def __init__(self, num):\\n        print(\"Constructor of class Sample...\")\\n        self.num = num\\n        print(\"The value is :\", num)\\n\\n\\nS = Sample(100)',\n",
              "  '# Destructor Example\\n\\nclass Sample:\\n    num = 0\\n\\n    def __init__(self, var):\\n        Sample.num += 1\\n        self.var = var\\n\\n        print(\"Object value is = \", var)\\n        print(\"Variable value = \", Sample.num)\\n\\n    def __del__(self):\\n        Sample.num -= 1\\n\\n        print(\"Object with value %d is exit from the scope\" % self.var)\\n\\n\\nS1 = Sample(10)',\n",
              "  '# Destructor Example\\n\\nclass Sample:\\n    num = 0\\n\\n    def __init__(self, var):\\n        Sample.num += 1\\n        self.var = var\\n\\n        print(\"Object value is = \", var)\\n        print(\"Variable value = \", Sample.num)\\n\\n    def __del__(self):\\n        Sample.num -= 1\\n\\n        print(\"Object with value %d is exit from the scope\" % self.var)\\n\\n\\nS1 = Sample(10)',\n",
              "  '# Destructor Example\\n# Constructor and destructor function automatically executed in Python.\\n# Constructor when an object of a class is created and Destructor when an object exit from the scope.\\n\\nclass Sample:\\n    num = 0\\n\\n    def __init__(self, var):\\n        Sample.num += 1\\n        self.var = var\\n\\n        print(\"Object value is = \", var)\\n        print(\"Variable value = \", Sample.num)\\n\\n    def __del__(self):\\n        Sample.num -= 1\\n\\n        print(\"Object with value %d is exit from the scope\" % self.var)\\n\\n\\nS1 = Sample(10)',\n",
              "  '\"\"\"\\nA class defined in another class is known as inner class or nested class.\\nIf an object is created using child class means inner class then the object can also be used by parent class or root class.\\nA parent class can have one or more inner class but generally inner classes are avoided.\\n\"\"\"\\n\\n# create a Color class\\nclass Color:\\n    \\n  # constructor method\\n  def __init__(self):\\n    # object attributes\\n    self.name = \\'Green\\'\\n    self.lg = self.Lightgreen()\\n    \\n  def show(self):\\n    print(\"Name:\", self.name)\\n    \\n  # create Lightgreen class\\n  class Lightgreen:\\n     def __init__(self):\\n        self.name = \\'Light Green\\'\\n        self.code = \\'024avc\\'\\n    \\n     def display(self):\\n        print(\"Name:\", self.name)\\n        print(\"Code:\", self.code)\\n  \\n# create Color class object\\nouter = Color()\\n  \\n# method calling\\nouter.show()\\n  \\n# create a Lightgreen \\n# inner class object\\ng = outer.lg\\n  \\n# inner class method calling\\ng.display()',\n",
              "  \"# Python program to demonstrate\\n# use of class method and static method.\\nfrom datetime import date\\n  \\nclass Person:\\n    def __init__(self, name, age):\\n        self.name = name\\n        self.age = age\\n      \\n    # a class method to create a Person object by birth year.\\n    @classmethod\\n    def fromBirthYear(cls, name, year):\\n        return cls(name, date.today().year - year)\\n      \\n    # a static method to check if a Person is adult or not.\\n    @staticmethod\\n    def isAdult(age):\\n        return age > 18\\n  \\nperson1 = Person('mayank', 21)\\nperson2 = Person.fromBirthYear('mayank', 1996)\\n  \\nprint (person1.age)\\nprint (person2.age)\\n  \\n# print the result\\nprint (Person.isAdult(22))\",\n",
              "  '\"\"\"\\nA namespace is a collection of currently defined symbolic names along with information about the object that each name references.\\nYou can think of a namespace as a dictionary in which the keys are the object names and the values are the objects themselves. \\nIn a Python program, there are four types of namespaces:\\n\\nBuilt-In\\nGlobal\\nEnclosing\\nLocal\\n\"\"\"\\ndir(__builtins__)',\n",
              "  'g = globals()',\n",
              "  'g'],\n",
              " '_ii': '\"\"\"\\nA namespace is a collection of currently defined symbolic names along with information about the object that each name references.\\nYou can think of a namespace as a dictionary in which the keys are the object names and the values are the objects themselves. \\nIn a Python program, there are four types of namespaces:\\n\\nBuilt-In\\nGlobal\\nEnclosing\\nLocal\\n\"\"\"\\ndir(__builtins__)',\n",
              " '_iii': \"# Python program to demonstrate\\n# use of class method and static method.\\nfrom datetime import date\\n  \\nclass Person:\\n    def __init__(self, name, age):\\n        self.name = name\\n        self.age = age\\n      \\n    # a class method to create a Person object by birth year.\\n    @classmethod\\n    def fromBirthYear(cls, name, year):\\n        return cls(name, date.today().year - year)\\n      \\n    # a static method to check if a Person is adult or not.\\n    @staticmethod\\n    def isAdult(age):\\n        return age > 18\\n  \\nperson1 = Person('mayank', 21)\\nperson2 = Person.fromBirthYear('mayank', 1996)\\n  \\nprint (person1.age)\\nprint (person2.age)\\n  \\n# print the result\\nprint (Person.isAdult(22))\",\n",
              " '_oh': {18: '\\nConstructors in Python\\nClass functions that begin with double underscore __ are called special functions as they have special meaning.\\n\\nOf one particular interest is the __init__() function. This special function gets called whenever a new object of that class is instantiated.\\n\\nThis type of function is also called constructors in Object Oriented Programming (OOP). We normally use it to initialize all the variables.\\n',\n",
              "  27: ['ArithmeticError',\n",
              "   'AssertionError',\n",
              "   'AttributeError',\n",
              "   'BaseException',\n",
              "   'BlockingIOError',\n",
              "   'BrokenPipeError',\n",
              "   'BufferError',\n",
              "   'BytesWarning',\n",
              "   'ChildProcessError',\n",
              "   'ConnectionAbortedError',\n",
              "   'ConnectionError',\n",
              "   'ConnectionRefusedError',\n",
              "   'ConnectionResetError',\n",
              "   'DeprecationWarning',\n",
              "   'EOFError',\n",
              "   'Ellipsis',\n",
              "   'EnvironmentError',\n",
              "   'Exception',\n",
              "   'False',\n",
              "   'FileExistsError',\n",
              "   'FileNotFoundError',\n",
              "   'FloatingPointError',\n",
              "   'FutureWarning',\n",
              "   'GeneratorExit',\n",
              "   'IOError',\n",
              "   'ImportError',\n",
              "   'ImportWarning',\n",
              "   'IndentationError',\n",
              "   'IndexError',\n",
              "   'InterruptedError',\n",
              "   'IsADirectoryError',\n",
              "   'KeyError',\n",
              "   'KeyboardInterrupt',\n",
              "   'LookupError',\n",
              "   'MemoryError',\n",
              "   'ModuleNotFoundError',\n",
              "   'NameError',\n",
              "   'None',\n",
              "   'NotADirectoryError',\n",
              "   'NotImplemented',\n",
              "   'NotImplementedError',\n",
              "   'OSError',\n",
              "   'OverflowError',\n",
              "   'PendingDeprecationWarning',\n",
              "   'PermissionError',\n",
              "   'ProcessLookupError',\n",
              "   'RecursionError',\n",
              "   'ReferenceError',\n",
              "   'ResourceWarning',\n",
              "   'RuntimeError',\n",
              "   'RuntimeWarning',\n",
              "   'StopAsyncIteration',\n",
              "   'StopIteration',\n",
              "   'SyntaxError',\n",
              "   'SyntaxWarning',\n",
              "   'SystemError',\n",
              "   'SystemExit',\n",
              "   'TabError',\n",
              "   'TimeoutError',\n",
              "   'True',\n",
              "   'TypeError',\n",
              "   'UnboundLocalError',\n",
              "   'UnicodeDecodeError',\n",
              "   'UnicodeEncodeError',\n",
              "   'UnicodeError',\n",
              "   'UnicodeTranslateError',\n",
              "   'UnicodeWarning',\n",
              "   'UserWarning',\n",
              "   'ValueError',\n",
              "   'Warning',\n",
              "   'ZeroDivisionError',\n",
              "   '__IPYTHON__',\n",
              "   '__build_class__',\n",
              "   '__debug__',\n",
              "   '__doc__',\n",
              "   '__import__',\n",
              "   '__loader__',\n",
              "   '__name__',\n",
              "   '__package__',\n",
              "   '__spec__',\n",
              "   'abs',\n",
              "   'all',\n",
              "   'any',\n",
              "   'ascii',\n",
              "   'bin',\n",
              "   'bool',\n",
              "   'breakpoint',\n",
              "   'bytearray',\n",
              "   'bytes',\n",
              "   'callable',\n",
              "   'chr',\n",
              "   'classmethod',\n",
              "   'compile',\n",
              "   'complex',\n",
              "   'copyright',\n",
              "   'credits',\n",
              "   'delattr',\n",
              "   'dict',\n",
              "   'dir',\n",
              "   'display',\n",
              "   'divmod',\n",
              "   'dreload',\n",
              "   'enumerate',\n",
              "   'eval',\n",
              "   'exec',\n",
              "   'execfile',\n",
              "   'filter',\n",
              "   'float',\n",
              "   'format',\n",
              "   'frozenset',\n",
              "   'get_ipython',\n",
              "   'getattr',\n",
              "   'globals',\n",
              "   'hasattr',\n",
              "   'hash',\n",
              "   'help',\n",
              "   'hex',\n",
              "   'id',\n",
              "   'input',\n",
              "   'int',\n",
              "   'isinstance',\n",
              "   'issubclass',\n",
              "   'iter',\n",
              "   'len',\n",
              "   'license',\n",
              "   'list',\n",
              "   'locals',\n",
              "   'map',\n",
              "   'max',\n",
              "   'memoryview',\n",
              "   'min',\n",
              "   'next',\n",
              "   'object',\n",
              "   'oct',\n",
              "   'open',\n",
              "   'ord',\n",
              "   'pow',\n",
              "   'print',\n",
              "   'property',\n",
              "   'range',\n",
              "   'repr',\n",
              "   'reversed',\n",
              "   'round',\n",
              "   'runfile',\n",
              "   'set',\n",
              "   'setattr',\n",
              "   'slice',\n",
              "   'sorted',\n",
              "   'staticmethod',\n",
              "   'str',\n",
              "   'sum',\n",
              "   'super',\n",
              "   'tuple',\n",
              "   'type',\n",
              "   'vars',\n",
              "   'zip']},\n",
              " '_sh': <module 'IPython.core.shadowns' from '/usr/local/lib/python3.7/dist-packages/IPython/core/shadowns.py'>,\n",
              " 'bird': <__main__.Bird at 0x7f480aff5c90>,\n",
              " 'c': <__main__.RaspberryPi at 0x7f480b5ecd50>,\n",
              " 'date': datetime.date,\n",
              " 'exit': <IPython.core.autocall.ZMQExitAutocall at 0x7f4822fba510>,\n",
              " 'flying_test': <function __main__.flying_test>,\n",
              " 'g': {...},\n",
              " 'get_ipython': <bound method InteractiveShell.get_ipython of <google.colab._shell.Shell object at 0x7f4822f91f90>>,\n",
              " 'lion': <__main__.Animal at 0x7f480afdef10>,\n",
              " 'num1': <__main__.ComplexNumber at 0x7f480b023fd0>,\n",
              " 'num2': <__main__.ComplexNumber at 0x7f480b023510>,\n",
              " 'obj': <__main__.Animal at 0x7f480b023910>,\n",
              " 'outer': <__main__.Color at 0x7f480af14050>,\n",
              " 'peggy': <__main__.Penguin at 0x7f480b021690>,\n",
              " 'person1': <__main__.Person at 0x7f480af01290>,\n",
              " 'person2': <__main__.Person at 0x7f480af01a50>,\n",
              " 'quit': <IPython.core.autocall.ZMQExitAutocall at 0x7f4822fba510>,\n",
              " 'shark': <__main__.Shark at 0x7f480aff5b50>,\n",
              " 'tiger': <__main__.Animal at 0x7f480affb590>}"
            ]
          },
          "metadata": {},
          "execution_count": 29
        }
      ]
    },
    {
      "cell_type": "code",
      "source": [
        "# Operator Overloading in Python\n",
        "\n",
        "print (14 + 32)  \n",
        "   \n",
        "# Now, we will concatenate the two strings  \n",
        "print (\"Python\" + \" Programming Lanuage\")  \n",
        "   \n",
        "# We will check the product of two numbers  \n",
        "print (23 * 14)  \n",
        "   \n",
        "# Here, we will try to repeat the String  \n",
        "print (\"X Y Z \" * 3)  "
      ],
      "metadata": {
        "colab": {
          "base_uri": "https://localhost:8080/"
        },
        "id": "260IWwco6m2v",
        "outputId": "b399260f-0790-4f38-df91-e360abf11a07"
      },
      "execution_count": null,
      "outputs": [
        {
          "output_type": "stream",
          "name": "stdout",
          "text": [
            "46\n",
            "Python Programming Lanuage\n",
            "322\n",
            "X Y Z X Y Z X Y Z \n"
          ]
        }
      ]
    },
    {
      "cell_type": "code",
      "source": [
        "# Method Overloading\n",
        "# First product method.\n",
        "# Takes two argument and print their\n",
        "# product\n",
        "def product(a, b):\n",
        "    p = a * b\n",
        "    print(p)\n",
        "      \n",
        "# Second product method\n",
        "# Takes three argument and print their\n",
        "# product\n",
        "def product(a, b, c):\n",
        "    p = a * b*c\n",
        "    print(p)\n",
        "  \n",
        "# Uncommenting the below line shows an error    \n",
        "# product(4, 5)\n",
        "  \n",
        "# This line will call the second product method\n",
        "product(4, 5, 5)"
      ],
      "metadata": {
        "colab": {
          "base_uri": "https://localhost:8080/"
        },
        "id": "--njiC1u8__0",
        "outputId": "496efe26-e8e3-486d-e1c5-f9d0b2d3f93a"
      },
      "execution_count": null,
      "outputs": [
        {
          "output_type": "stream",
          "name": "stdout",
          "text": [
            "100\n"
          ]
        }
      ]
    },
    {
      "cell_type": "code",
      "source": [
        "# Python program to demonstrate \n",
        "# method overriding\n",
        "  \n",
        "  \n",
        "# Defining parent class\n",
        "class Parent():\n",
        "      \n",
        "    # Constructor\n",
        "    def __init__(self):\n",
        "        self.value = \"Inside Parent\"\n",
        "          \n",
        "    # Parent's show method\n",
        "    def show(self):\n",
        "        print(self.value)\n",
        "          \n",
        "# Defining child class\n",
        "class Child(Parent):\n",
        "      \n",
        "    # Constructor\n",
        "    def __init__(self):\n",
        "        self.value = \"Inside Child\"\n",
        "          \n",
        "    # Child's show method\n",
        "    def show(self):\n",
        "        print(self.value)\n",
        "          \n",
        "          \n",
        "# Driver's code\n",
        "obj1 = Parent()\n",
        "obj2 = Child()\n",
        "  \n",
        "obj1.show()\n",
        "obj2.show()"
      ],
      "metadata": {
        "colab": {
          "base_uri": "https://localhost:8080/"
        },
        "id": "_dZ_vqpo9idq",
        "outputId": "bd800352-d7ce-4572-b565-543bbbc55a6c"
      },
      "execution_count": null,
      "outputs": [
        {
          "output_type": "stream",
          "name": "stdout",
          "text": [
            "Inside Parent\n",
            "Inside Child\n"
          ]
        }
      ]
    },
    {
      "cell_type": "code",
      "source": [
        "# Python program showing\n",
        "# abstract base class work\n",
        " \n",
        "from abc import ABC, abstractmethod\n",
        " \n",
        "class Polygon(ABC):\n",
        " \n",
        "    @abstractmethod\n",
        "    def noofsides(self):\n",
        "        pass\n",
        " \n",
        "class Triangle(Polygon):\n",
        " \n",
        "    # overriding abstract method\n",
        "    def noofsides(self):\n",
        "        print(\"I have 3 sides\")\n",
        " \n",
        "class Pentagon(Polygon):\n",
        " \n",
        "    # overriding abstract method\n",
        "    def noofsides(self):\n",
        "        print(\"I have 5 sides\")\n",
        " \n",
        "class Hexagon(Polygon):\n",
        " \n",
        "    # overriding abstract method\n",
        "    def noofsides(self):\n",
        "        print(\"I have 6 sides\")\n",
        " \n",
        "class Quadrilateral(Polygon):\n",
        " \n",
        "    # overriding abstract method\n",
        "    def noofsides(self):\n",
        "        print(\"I have 4 sides\")\n",
        " \n",
        "# Driver code\n",
        "R = Triangle()\n",
        "R.noofsides()\n",
        " \n",
        "K = Quadrilateral()\n",
        "K.noofsides()\n",
        " \n",
        "R = Pentagon()\n",
        "R.noofsides()\n",
        " \n",
        "K = Hexagon()\n",
        "K.noofsides()"
      ],
      "metadata": {
        "colab": {
          "base_uri": "https://localhost:8080/"
        },
        "id": "30-ePiSC9tU3",
        "outputId": "7a79b407-bb81-412a-e1d8-4b59ce48a309"
      },
      "execution_count": null,
      "outputs": [
        {
          "output_type": "stream",
          "name": "stdout",
          "text": [
            "I have 3 sides\n",
            "I have 4 sides\n",
            "I have 5 sides\n",
            "I have 6 sides\n"
          ]
        }
      ]
    },
    {
      "cell_type": "code",
      "source": [
        "# Interface having two abstract methods and one sub class\n",
        "\n",
        "from abc import ABC, abstractmethod\n",
        "class Bank(ABC):\n",
        "   @abstractmethod\n",
        "   def balance_check(self):\n",
        "       pass\n",
        "   @abstractmethod\n",
        "   def interest(self):\n",
        "       pass\n",
        "class SBI(Bank):\n",
        "   def balance_check(self):\n",
        "       print(\"Balance is 100 rupees\")\n",
        "   def interest(self):\n",
        "       print(\"SBI interest is 5 rupees\")\n",
        "s = SBI()\n",
        "s.balance_check()\n",
        "s.interest()"
      ],
      "metadata": {
        "colab": {
          "base_uri": "https://localhost:8080/"
        },
        "id": "yARcgjhM99sd",
        "outputId": "0e156516-101f-4fc1-cb46-8e380b5ad041"
      },
      "execution_count": null,
      "outputs": [
        {
          "output_type": "stream",
          "name": "stdout",
          "text": [
            "Balance is 100 rupees\n",
            "SBI interest is 5 rupees\n"
          ]
        }
      ]
    },
    {
      "cell_type": "code",
      "source": [
        "\"\"\"\n",
        "To create a package in Python, we need to follow these three simple steps:\n",
        "\n",
        "First, we create a directory and give it a package name, preferably related to its operation.\n",
        "Then we put the classes and the required functions in it.\n",
        "Finally we create an __init__.py file inside the directory, to let Python know that the directory is a package.\n",
        "\"\"\"\n",
        "# Python code to illustrate the Modules\n",
        "class Bmw:\n",
        "    # First we create a constructor for this class\n",
        "    # and add members to it, here models\n",
        "    def __init__(self):\n",
        "        self.models = ['i8', 'x1', 'x5', 'x6']\n",
        "   \n",
        "    # A normal print function\n",
        "    def outModels(self):\n",
        "        print('These are the available models for BMW')\n",
        "        for model in self.models:\n",
        "            print('\\t%s ' % model)"
      ],
      "metadata": {
        "id": "tx4sxt89_Rgb"
      },
      "execution_count": null,
      "outputs": []
    },
    {
      "cell_type": "code",
      "source": [
        "\"\"\"\n",
        "Finally we create the __init__.py file. \n",
        "This file will be placed inside Cars directory and can be left blank or we can put this initialisation code into it.\n",
        "from Bmw import Bmw\n",
        "\"\"\""
      ],
      "metadata": {
        "colab": {
          "base_uri": "https://localhost:8080/",
          "height": 53
        },
        "id": "8oRoJKCzDqmL",
        "outputId": "81ba9499-0d9e-42db-c8ca-8b91448115fd"
      },
      "execution_count": null,
      "outputs": [
        {
          "output_type": "execute_result",
          "data": {
            "text/plain": [
              "'\\nFinally we create the __init__.py file. \\nThis file will be placed inside Cars directory and can be left blank or we can put this initialisation code into it.\\nfrom Bmw import Bmw\\n'"
            ],
            "application/vnd.google.colaboratory.intrinsic+json": {
              "type": "string"
            }
          },
          "metadata": {},
          "execution_count": 39
        }
      ]
    },
    {
      "cell_type": "code",
      "source": [
        "\"\"\"\n",
        "A thread contains all this information in a Thread Control Block (TCB):\n",
        "\n",
        "Thread Identifier: Unique id (TID) is assigned to every new thread\n",
        "Stack pointer: Points to thread’s stack in the process. Stack contains the local variables under thread’s scope.\n",
        "Program counter: a register which stores the address of the instruction currently being executed by thread.\n",
        "Thread state: can be running, ready, waiting, start or done.\n",
        "Thread’s register set: registers assigned to thread for computations.\n",
        "Parent process Pointer: A pointer to the Process control block (PCB) of the process that the thread lives on.\n",
        "\"\"\"\n",
        "# Python program to illustrate the concept\n",
        "# of threading\n",
        "# importing the threading module\n",
        "import threading\n",
        "  \n",
        "def print_cube(num):\n",
        "    \"\"\"\n",
        "    function to print cube of given num\n",
        "    \"\"\"\n",
        "    print(\"Cube: {}\".format(num * num * num))\n",
        "  \n",
        "def print_square(num):\n",
        "    \"\"\"\n",
        "    function to print square of given num\n",
        "    \"\"\"\n",
        "    print(\"Square: {}\".format(num * num))\n",
        "  \n",
        "if __name__ == \"__main__\":\n",
        "    # creating thread\n",
        "    t1 = threading.Thread(target=print_square, args=(10,))\n",
        "    t2 = threading.Thread(target=print_cube, args=(10,))\n",
        "  \n",
        "    # starting thread 1\n",
        "    t1.start()\n",
        "    # starting thread 2\n",
        "    t2.start()\n",
        "  \n",
        "    # wait until thread 1 is completely executed\n",
        "    t1.join()\n",
        "    # wait until thread 2 is completely executed\n",
        "    t2.join()\n",
        "  \n",
        "    # both threads completely executed\n",
        "    print(\"Done!\")"
      ],
      "metadata": {
        "colab": {
          "base_uri": "https://localhost:8080/"
        },
        "id": "y5qT_Sg3DwVZ",
        "outputId": "2542033e-70fb-4381-eda4-f6d4dfc6b1a2"
      },
      "execution_count": null,
      "outputs": [
        {
          "output_type": "stream",
          "name": "stdout",
          "text": [
            "Square: 100\n",
            "Cube: 1000\n",
            "Done!\n"
          ]
        }
      ]
    },
    {
      "cell_type": "code",
      "source": [
        "# Syntax Error\n",
        "\n",
        "# initialize the amount variable\n",
        "amount = 10000\n",
        " \n",
        "# check that You are eligible to\n",
        "#  purchase Dsa Self Paced or not\n",
        "if(amount > 2999)\n",
        "print(\"You are eligible to purchase Dsa Self Paced\")"
      ],
      "metadata": {
        "colab": {
          "base_uri": "https://localhost:8080/",
          "height": 131
        },
        "id": "7iwLtzzQEuzf",
        "outputId": "0cb8983f-16fd-4cd2-80de-1d4a55edb472"
      },
      "execution_count": null,
      "outputs": [
        {
          "output_type": "error",
          "ename": "SyntaxError",
          "evalue": "ignored",
          "traceback": [
            "\u001b[0;36m  File \u001b[0;32m\"<ipython-input-41-a3202141241f>\"\u001b[0;36m, line \u001b[0;32m8\u001b[0m\n\u001b[0;31m    if(amount > 2999)\u001b[0m\n\u001b[0m                     ^\u001b[0m\n\u001b[0;31mSyntaxError\u001b[0m\u001b[0;31m:\u001b[0m invalid syntax\n"
          ]
        }
      ]
    },
    {
      "cell_type": "code",
      "source": [
        "# Exception Handling\n",
        "\n",
        "# initialize the amount variable\n",
        "marks = 10000\n",
        " \n",
        "# perform division with 0\n",
        "a = marks / 0\n",
        "print(a)"
      ],
      "metadata": {
        "colab": {
          "base_uri": "https://localhost:8080/",
          "height": 218
        },
        "id": "Z96a117pFWHF",
        "outputId": "21a35345-60eb-45e0-a156-2f27db4a426c"
      },
      "execution_count": null,
      "outputs": [
        {
          "output_type": "error",
          "ename": "ZeroDivisionError",
          "evalue": "ignored",
          "traceback": [
            "\u001b[0;31m---------------------------------------------------------------------------\u001b[0m",
            "\u001b[0;31mZeroDivisionError\u001b[0m                         Traceback (most recent call last)",
            "\u001b[0;32m<ipython-input-42-fc411cf421b5>\u001b[0m in \u001b[0;36m<module>\u001b[0;34m()\u001b[0m\n\u001b[1;32m      5\u001b[0m \u001b[0;34m\u001b[0m\u001b[0m\n\u001b[1;32m      6\u001b[0m \u001b[0;31m# perform division with 0\u001b[0m\u001b[0;34m\u001b[0m\u001b[0;34m\u001b[0m\u001b[0;34m\u001b[0m\u001b[0m\n\u001b[0;32m----> 7\u001b[0;31m \u001b[0ma\u001b[0m \u001b[0;34m=\u001b[0m \u001b[0mmarks\u001b[0m \u001b[0;34m/\u001b[0m \u001b[0;36m0\u001b[0m\u001b[0;34m\u001b[0m\u001b[0;34m\u001b[0m\u001b[0m\n\u001b[0m\u001b[1;32m      8\u001b[0m \u001b[0mprint\u001b[0m\u001b[0;34m(\u001b[0m\u001b[0ma\u001b[0m\u001b[0;34m)\u001b[0m\u001b[0;34m\u001b[0m\u001b[0;34m\u001b[0m\u001b[0m\n",
            "\u001b[0;31mZeroDivisionError\u001b[0m: division by zero"
          ]
        }
      ]
    },
    {
      "cell_type": "code",
      "source": [
        "# Python program to handle simple runtime error\n",
        "#Python 3\n",
        " \n",
        "a = [1, 2, 3]\n",
        "try:\n",
        "    print (\"Second element = %d\" %(a[1]))\n",
        " \n",
        "    # Throws error since there are only 3 elements in array\n",
        "    print (\"Fourth element = %d\" %(a[3]))\n",
        " \n",
        "except:\n",
        "    print (\"An error occurred\")"
      ],
      "metadata": {
        "colab": {
          "base_uri": "https://localhost:8080/"
        },
        "id": "p9apthxHFd8r",
        "outputId": "17550743-95b6-4cab-d019-6710ed6885e1"
      },
      "execution_count": null,
      "outputs": [
        {
          "output_type": "stream",
          "name": "stdout",
          "text": [
            "Second element = 2\n",
            "An error occurred\n"
          ]
        }
      ]
    },
    {
      "cell_type": "code",
      "source": [
        "# Program to handle multiple errors with one\n",
        "# except statement\n",
        "# Python 3\n",
        " \n",
        "def fun(a):\n",
        "    if a < 4:\n",
        " \n",
        "        # throws ZeroDivisionError for a = 3\n",
        "        b = a/(a-3)\n",
        " \n",
        "    # throws NameError if a >= 4\n",
        "    print(\"Value of b = \", b)\n",
        "     \n",
        "try:\n",
        "    fun(3)\n",
        "    fun(5)\n",
        " \n",
        "# note that braces () are necessary here for\n",
        "# multiple exceptions\n",
        "except ZeroDivisionError:\n",
        "    print(\"ZeroDivisionError Occurred and Handled\")\n",
        "except NameError:\n",
        "    print(\"NameError Occurred and Handled\")"
      ],
      "metadata": {
        "colab": {
          "base_uri": "https://localhost:8080/"
        },
        "id": "mAaD6jEBFhkI",
        "outputId": "edd05ab8-6f78-4bb5-ee28-1c469e36c6c9"
      },
      "execution_count": null,
      "outputs": [
        {
          "output_type": "stream",
          "name": "stdout",
          "text": [
            "ZeroDivisionError Occurred and Handled\n"
          ]
        }
      ]
    },
    {
      "cell_type": "code",
      "source": [
        "\"\"\"\n",
        "Tkinter Programming\n",
        "Tkinter is the standard GUI library for Python. \n",
        "Python when combined with Tkinter provides a fast and easy way to create GUI applications.\n",
        "Tkinter provides a powerful object-oriented interface to the Tk GUI toolkit.\n",
        "\"\"\"\n",
        "\n",
        "#!/usr/bin/python\n",
        "\n",
        "import Tkinter\n",
        "top = Tkinter.Tk()\n",
        "# Code to add widgets will go here...\n",
        "top.mainloop()"
      ],
      "metadata": {
        "colab": {
          "base_uri": "https://localhost:8080/",
          "height": 374
        },
        "id": "0MAOOJeXFqwn",
        "outputId": "6222287e-904f-40ff-c1f8-c8574eeac33a"
      },
      "execution_count": null,
      "outputs": [
        {
          "output_type": "error",
          "ename": "ModuleNotFoundError",
          "evalue": "ignored",
          "traceback": [
            "\u001b[0;31m---------------------------------------------------------------------------\u001b[0m",
            "\u001b[0;31mModuleNotFoundError\u001b[0m                       Traceback (most recent call last)",
            "\u001b[0;32m<ipython-input-55-4917c30869cf>\u001b[0m in \u001b[0;36m<module>\u001b[0;34m()\u001b[0m\n\u001b[1;32m      8\u001b[0m \u001b[0;31m#!/usr/bin/python\u001b[0m\u001b[0;34m\u001b[0m\u001b[0;34m\u001b[0m\u001b[0;34m\u001b[0m\u001b[0m\n\u001b[1;32m      9\u001b[0m \u001b[0;34m\u001b[0m\u001b[0m\n\u001b[0;32m---> 10\u001b[0;31m \u001b[0;32mimport\u001b[0m \u001b[0mTkinter\u001b[0m\u001b[0;34m\u001b[0m\u001b[0;34m\u001b[0m\u001b[0m\n\u001b[0m\u001b[1;32m     11\u001b[0m \u001b[0mtop\u001b[0m \u001b[0;34m=\u001b[0m \u001b[0mTkinter\u001b[0m\u001b[0;34m.\u001b[0m\u001b[0mTk\u001b[0m\u001b[0;34m(\u001b[0m\u001b[0;34m)\u001b[0m\u001b[0;34m\u001b[0m\u001b[0;34m\u001b[0m\u001b[0m\n\u001b[1;32m     12\u001b[0m \u001b[0;31m# Code to add widgets will go here...\u001b[0m\u001b[0;34m\u001b[0m\u001b[0;34m\u001b[0m\u001b[0;34m\u001b[0m\u001b[0m\n",
            "\u001b[0;31mModuleNotFoundError\u001b[0m: No module named 'Tkinter'",
            "",
            "\u001b[0;31m---------------------------------------------------------------------------\u001b[0;32m\nNOTE: If your import is failing due to a missing package, you can\nmanually install dependencies using either !pip or !apt.\n\nTo view examples of installing some common dependencies, click the\n\"Open Examples\" button below.\n\u001b[0;31m---------------------------------------------------------------------------\u001b[0m\n"
          ],
          "errorDetails": {
            "actions": [
              {
                "action": "open_url",
                "actionText": "Open Examples",
                "url": "/notebooks/snippets/importing_libraries.ipynb"
              }
            ]
          }
        }
      ]
    },
    {
      "cell_type": "code",
      "source": [
        "import tkinker"
      ],
      "metadata": {
        "colab": {
          "base_uri": "https://localhost:8080/",
          "height": 305
        },
        "id": "sffW7Fp1F8JF",
        "outputId": "78cf34e1-19d6-4e9d-9aa9-46fb926e4bc4"
      },
      "execution_count": null,
      "outputs": [
        {
          "output_type": "error",
          "ename": "ModuleNotFoundError",
          "evalue": "ignored",
          "traceback": [
            "\u001b[0;31m---------------------------------------------------------------------------\u001b[0m",
            "\u001b[0;31mModuleNotFoundError\u001b[0m                       Traceback (most recent call last)",
            "\u001b[0;32m<ipython-input-54-4f9b7c0c1bcc>\u001b[0m in \u001b[0;36m<module>\u001b[0;34m()\u001b[0m\n\u001b[0;32m----> 1\u001b[0;31m \u001b[0;32mimport\u001b[0m \u001b[0mtkinker\u001b[0m\u001b[0;34m\u001b[0m\u001b[0;34m\u001b[0m\u001b[0m\n\u001b[0m",
            "\u001b[0;31mModuleNotFoundError\u001b[0m: No module named 'tkinker'",
            "",
            "\u001b[0;31m---------------------------------------------------------------------------\u001b[0;32m\nNOTE: If your import is failing due to a missing package, you can\nmanually install dependencies using either !pip or !apt.\n\nTo view examples of installing some common dependencies, click the\n\"Open Examples\" button below.\n\u001b[0;31m---------------------------------------------------------------------------\u001b[0m\n"
          ],
          "errorDetails": {
            "actions": [
              {
                "action": "open_url",
                "actionText": "Open Examples",
                "url": "/notebooks/snippets/importing_libraries.ipynb"
              }
            ]
          }
        }
      ]
    },
    {
      "cell_type": "code",
      "source": [
        "from tkinter import *"
      ],
      "metadata": {
        "id": "dImrF3NPGA6C"
      },
      "execution_count": 1,
      "outputs": []
    },
    {
      "cell_type": "code",
      "source": [
        ""
      ],
      "metadata": {
        "id": "Uo_zA78TpOkP"
      },
      "execution_count": null,
      "outputs": []
    }
  ]
}