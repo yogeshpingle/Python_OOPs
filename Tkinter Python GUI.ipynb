{
 "cells": [
  {
   "cell_type": "code",
   "execution_count": 1,
   "metadata": {},
   "outputs": [],
   "source": [
    "from tkinter import *"
   ]
  },
  {
   "cell_type": "code",
   "execution_count": 3,
   "metadata": {},
   "outputs": [],
   "source": [
    "# Import Module\n",
    "from tkinter import *\n",
    " \n",
    "# create root window\n",
    "root = Tk()\n",
    " \n",
    "# root window title and dimension\n",
    "root.title(\"Welcome to SEIT Class\")\n",
    "# Set geometry (widthxheight)\n",
    "root.geometry('350x200')\n",
    " \n",
    "# all widgets will be here\n",
    "# Execute Tkinter\n",
    "root.mainloop()"
   ]
  },
  {
   "cell_type": "code",
   "execution_count": 4,
   "metadata": {},
   "outputs": [],
   "source": [
    "# Import Module\n",
    "from tkinter import *\n",
    " \n",
    "# create root window\n",
    "root = Tk()\n",
    " \n",
    "# root window title and dimension\n",
    "root.title(\"Welcome to SEIT Class\")\n",
    "# Set geometry(widthxheight)\n",
    "root.geometry('350x200')\n",
    " \n",
    "# adding a label to the root window\n",
    "lbl = Label(root, text = \"Are you a Geek?\")\n",
    "lbl.grid()\n",
    " \n",
    "# function to display text when\n",
    "# button is clicked\n",
    "def clicked():\n",
    "    lbl.configure(text = \"I just got clicked\")\n",
    " \n",
    "# button widget with red color text\n",
    "# inside\n",
    "btn = Button(root, text = \"Click me\" ,\n",
    "             fg = \"red\", command=clicked)\n",
    "# set Button grid\n",
    "btn.grid(column=1, row=0)\n",
    " \n",
    "# Execute Tkinter\n",
    "root.mainloop()"
   ]
  },
  {
   "cell_type": "code",
   "execution_count": 5,
   "metadata": {},
   "outputs": [],
   "source": [
    "# Import Module\n",
    "from tkinter import *\n",
    " \n",
    "# create root window\n",
    "root = Tk()\n",
    " \n",
    "# root window title and dimension\n",
    "root.title(\"Welcome to SEIT Class\")\n",
    "# Set geometry(widthxheight)\n",
    "root.geometry('350x200')\n",
    " \n",
    "# adding menu bar in root window\n",
    "# new item in menu bar labelled as 'New'\n",
    "# adding more items in the menu bar\n",
    "menu = Menu(root)\n",
    "item = Menu(menu)\n",
    "item.add_command(label='New')\n",
    "menu.add_cascade(label='File', menu=item)\n",
    "root.config(menu=menu)\n",
    " \n",
    "# adding a label to the root window\n",
    "lbl = Label(root, text = \"Are you a Geek?\")\n",
    "lbl.grid()\n",
    " \n",
    "# adding Entry Field\n",
    "txt = Entry(root, width=10)\n",
    "txt.grid(column =1, row =0)\n",
    " \n",
    " \n",
    "# function to display user text when\n",
    "# button is clicked\n",
    "def clicked():\n",
    " \n",
    "    res = \"You wrote\" + txt.get()\n",
    "    lbl.configure(text = res)\n",
    " \n",
    "# button widget with red color text inside\n",
    "btn = Button(root, text = \"Click me\" ,\n",
    "             fg = \"red\", command=clicked)\n",
    "# Set Button Grid\n",
    "btn.grid(column=2, row=0)\n",
    " \n",
    "# Execute Tkinter\n",
    "root.mainloop()"
   ]
  },
  {
   "cell_type": "code",
   "execution_count": null,
   "metadata": {},
   "outputs": [],
   "source": []
  }
 ],
 "metadata": {
  "kernelspec": {
   "display_name": "Python 3",
   "language": "python",
   "name": "python3"
  },
  "language_info": {
   "codemirror_mode": {
    "name": "ipython",
    "version": 3
   },
   "file_extension": ".py",
   "mimetype": "text/x-python",
   "name": "python",
   "nbconvert_exporter": "python",
   "pygments_lexer": "ipython3",
   "version": "3.7.0"
  }
 },
 "nbformat": 4,
 "nbformat_minor": 2
}
